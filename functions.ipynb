{
 "cells": [
  {
   "cell_type": "code",
   "execution_count": null,
   "id": "e199a4bb",
   "metadata": {},
   "outputs": [
    {
     "name": "stdout",
     "output_type": "stream",
     "text": [
      "4.0\n"
     ]
    }
   ],
   "source": [
    "# program to find combination of n and r or nCr using functions \n",
    "def fact(n):# def keyword is used to make a function\n",
    "    temp=1\n",
    "    for i in range(1,n+1):\n",
    "        temp*=i\n",
    "    return temp\n",
    "\n",
    "\n",
    "n = int(input())\n",
    "r = int(input())\n",
    "factn = fact(n)\n",
    "factr = fact(r)\n",
    "factnr = fact(n-r)\n",
    "nCr = (factn)/(factr*factnr)\n",
    "print(nCr)"
   ]
  },
  {
   "cell_type": "code",
   "execution_count": null,
   "id": "ca632827",
   "metadata": {},
   "outputs": [
    {
     "name": "stdout",
     "output_type": "stream",
     "text": [
      "5\n"
     ]
    }
   ],
   "source": [
    "# syntax of function\n",
    "def func(a,b):\n",
    "    print(a+b)\n",
    "\n",
    "# here we used def for making it a function \n",
    "# func -> is name of our function \n",
    "# whereas in (a,b) , a and b are parameters that we have passed to our function\n",
    "# this syntax should be followed to make a function properly\n",
    "# number of parameters is dependent on the need of function\n",
    "\n",
    "a = int(input()) \n",
    "b = int(input())\n",
    "func(a,b) # function calling  "
   ]
  },
  {
   "cell_type": "code",
   "execution_count": null,
   "id": "e94d992d",
   "metadata": {},
   "outputs": [
    {
     "name": "stdout",
     "output_type": "stream",
     "text": [
      "AL70 Vedant\n",
      "Age is 21\n"
     ]
    }
   ],
   "source": [
    "def print_info(name,id,age):\n",
    "    print(id+\" \"+name)\n",
    "    print(\"Age is\",age)\n",
    "\n",
    "print_info(\"Vedant\",age=21,id=\"AL70\")#here we are giving 3 parameters\n",
    "#make sure that parameters are in sequence as declared in function making\n",
    "# or define the variable in function calling to avoid type error like note in next code block\n"
   ]
  },
  {
   "cell_type": "code",
   "execution_count": null,
   "id": "da79b45b",
   "metadata": {},
   "outputs": [
    {
     "ename": "TypeError",
     "evalue": "print_info() got multiple values for argument 'id'",
     "output_type": "error",
     "traceback": [
      "\u001b[31m---------------------------------------------------------------------------\u001b[39m",
      "\u001b[31mTypeError\u001b[39m                                 Traceback (most recent call last)",
      "\u001b[36mCell\u001b[39m\u001b[36m \u001b[39m\u001b[32mIn[6]\u001b[39m\u001b[32m, line 5\u001b[39m\n\u001b[32m      2\u001b[39m     \u001b[38;5;28mprint\u001b[39m(\u001b[38;5;28mid\u001b[39m+\u001b[33m\"\u001b[39m\u001b[33m \u001b[39m\u001b[33m\"\u001b[39m+name)\n\u001b[32m      3\u001b[39m     \u001b[38;5;28mprint\u001b[39m(\u001b[33m\"\u001b[39m\u001b[33mAge is\u001b[39m\u001b[33m\"\u001b[39m,age)\n\u001b[32m----> \u001b[39m\u001b[32m5\u001b[39m \u001b[43mprint_info\u001b[49m\u001b[43m(\u001b[49m\u001b[33;43m\"\u001b[39;49m\u001b[33;43mVedant\u001b[39;49m\u001b[33;43m\"\u001b[39;49m\u001b[43m,\u001b[49m\u001b[32;43m21\u001b[39;49m\u001b[43m,\u001b[49m\u001b[38;5;28;43mid\u001b[39;49m\u001b[43m=\u001b[49m\u001b[33;43m\"\u001b[39;49m\u001b[33;43mAL70\u001b[39;49m\u001b[33;43m\"\u001b[39;49m\u001b[43m)\u001b[49m\n",
      "\u001b[31mTypeError\u001b[39m: print_info() got multiple values for argument 'id'"
     ]
    }
   ],
   "source": [
    "def print_info(name,id,age):\n",
    "    print(id+\" \"+name)\n",
    "    print(\"Age is\",age)\n",
    "\n",
    "print_info(\"Vedant\",21,id=\"AL70\")# here we will get error because id has read 21 and we have \n",
    "# given it \"AL70\" also using variable "
   ]
  },
  {
   "cell_type": "code",
   "execution_count": null,
   "id": "ddff8b41",
   "metadata": {},
   "outputs": [
    {
     "ename": "TypeError",
     "evalue": "unsupported operand type(s) for +: 'int' and 'str'",
     "output_type": "error",
     "traceback": [
      "\u001b[31m---------------------------------------------------------------------------\u001b[39m",
      "\u001b[31mTypeError\u001b[39m                                 Traceback (most recent call last)",
      "\u001b[36mCell\u001b[39m\u001b[36m \u001b[39m\u001b[32mIn[7]\u001b[39m\u001b[32m, line 5\u001b[39m\n\u001b[32m      2\u001b[39m     \u001b[38;5;28mprint\u001b[39m(\u001b[38;5;28mid\u001b[39m+\u001b[33m\"\u001b[39m\u001b[33m \u001b[39m\u001b[33m\"\u001b[39m+name)\n\u001b[32m      3\u001b[39m     \u001b[38;5;28mprint\u001b[39m(\u001b[33m\"\u001b[39m\u001b[33mAge is\u001b[39m\u001b[33m\"\u001b[39m,age)\n\u001b[32m----> \u001b[39m\u001b[32m5\u001b[39m \u001b[43mprint_info\u001b[49m\u001b[43m(\u001b[49m\u001b[33;43m\"\u001b[39;49m\u001b[33;43mVedant\u001b[39;49m\u001b[33;43m\"\u001b[39;49m\u001b[43m,\u001b[49m\u001b[32;43m21\u001b[39;49m\u001b[43m,\u001b[49m\u001b[33;43m\"\u001b[39;49m\u001b[33;43mAL70\u001b[39;49m\u001b[33;43m\"\u001b[39;49m\u001b[43m)\u001b[49m\n",
      "\u001b[36mCell\u001b[39m\u001b[36m \u001b[39m\u001b[32mIn[7]\u001b[39m\u001b[32m, line 2\u001b[39m, in \u001b[36mprint_info\u001b[39m\u001b[34m(name, id, age)\u001b[39m\n\u001b[32m      1\u001b[39m \u001b[38;5;28;01mdef\u001b[39;00m\u001b[38;5;250m \u001b[39m\u001b[34mprint_info\u001b[39m(name,\u001b[38;5;28mid\u001b[39m,age):\n\u001b[32m----> \u001b[39m\u001b[32m2\u001b[39m     \u001b[38;5;28mprint\u001b[39m(\u001b[38;5;28;43mid\u001b[39;49m\u001b[43m+\u001b[49m\u001b[33;43m\"\u001b[39;49m\u001b[33;43m \u001b[39;49m\u001b[33;43m\"\u001b[39;49m+name)\n\u001b[32m      3\u001b[39m     \u001b[38;5;28mprint\u001b[39m(\u001b[33m\"\u001b[39m\u001b[33mAge is\u001b[39m\u001b[33m\"\u001b[39m,age)\n",
      "\u001b[31mTypeError\u001b[39m: unsupported operand type(s) for +: 'int' and 'str'"
     ]
    }
   ],
   "source": [
    "def print_info(name,id,age):\n",
    "    print(id+\" \"+name)\n",
    "    print(\"Age is\",age)\n",
    "\n",
    "print_info(\"Vedant\",21,\"AL70\")# error again read the error and try to understand"
   ]
  },
  {
   "cell_type": "code",
   "execution_count": null,
   "id": "f8d54b79",
   "metadata": {},
   "outputs": [
    {
     "name": "stdout",
     "output_type": "stream",
     "text": [
      "sum of prime numbers are 42\n"
     ]
    }
   ],
   "source": [
    "# program to find prime numbers from the list and return the sum of prime numbers only \n",
    "def check_prime(n):\n",
    "    facts = 0\n",
    "    for i in range(1,n+1):\n",
    "        if n%i==0: facts+=1\n",
    "\n",
    "    if facts ==2:\n",
    "        return True\n",
    "\n",
    "\n",
    "num = [3,2,5,17,3,7,8,9,4,3,2,1]\n",
    "sum_prime = 0\n",
    "for i in range(len(num)):\n",
    "    n=num[i]\n",
    "    ans =  check_prime(n)\n",
    "    if ans == True:\n",
    "        sum_prime +=num[i]\n",
    "print(\"sum of prime numbers are\",sum_prime)    \n"
   ]
  },
  {
   "cell_type": "code",
   "execution_count": 17,
   "id": "80eef57f",
   "metadata": {},
   "outputs": [
    {
     "name": "stdout",
     "output_type": "stream",
     "text": [
      "<class 'function'>\n",
      "27\n"
     ]
    }
   ],
   "source": [
    "# Lambda Function, also known as anonimous function it has no name\n",
    "# It has no return value it only return function\n",
    "# it is not used for code reuseablity\n",
    "# They can be assigned to a variable and then used\n",
    "# The variable that is used to store that function also becomes function\n",
    "\n",
    "X = lambda n:n*n*n\n",
    "print(type(X))# print class <function>\n",
    "\n",
    "print(X(3))# function calling "
   ]
  },
  {
   "cell_type": "code",
   "execution_count": 19,
   "id": "b2b3fe50",
   "metadata": {},
   "outputs": [
    {
     "name": "stdout",
     "output_type": "stream",
     "text": [
      "27\n"
     ]
    }
   ],
   "source": [
    "print((lambda n:n*n*n)(3))# concise and easy version without using variable"
   ]
  },
  {
   "cell_type": "code",
   "execution_count": 24,
   "id": "3435df35",
   "metadata": {},
   "outputs": [
    {
     "name": "stdout",
     "output_type": "stream",
     "text": [
      "2.0\n"
     ]
    }
   ],
   "source": [
    "# take three input from user and print their's average using lambda function\n",
    "\n",
    "a = int(input())\n",
    "b = int(input())\n",
    "c = int(input())\n",
    "avg = lambda a,b,c:(a+b+c)/3\n",
    "print(avg(a,b,c))"
   ]
  },
  {
   "cell_type": "code",
   "execution_count": 26,
   "id": "53d8402f",
   "metadata": {},
   "outputs": [
    {
     "name": "stdout",
     "output_type": "stream",
     "text": [
      "2.0\n"
     ]
    }
   ],
   "source": [
    "print((lambda a,b,c:(a+b+c)/3)(1,2,3))#single line version"
   ]
  },
  {
   "cell_type": "code",
   "execution_count": 27,
   "id": "ed653554",
   "metadata": {},
   "outputs": [
    {
     "data": {
      "text/plain": [
       "False"
      ]
     },
     "execution_count": 27,
     "metadata": {},
     "output_type": "execute_result"
    }
   ],
   "source": [
    "y = lambda x:x[0]==\"a\"\n",
    "y(\"ello\")"
   ]
  },
  {
   "cell_type": "code",
   "execution_count": 32,
   "id": "366f9bb6",
   "metadata": {},
   "outputs": [
    {
     "name": "stdout",
     "output_type": "stream",
     "text": [
      "even\n"
     ]
    }
   ],
   "source": [
    "ans = lambda x:x%2==0\n",
    "a = int(input()) \n",
    "if ans(a)==True:\n",
    "    print(\"even\")\n",
    "else: print(\"odd\")    "
   ]
  },
  {
   "cell_type": "code",
   "execution_count": 33,
   "id": "b3a1781b",
   "metadata": {},
   "outputs": [
    {
     "name": "stdout",
     "output_type": "stream",
     "text": [
      "Even\n"
     ]
    }
   ],
   "source": [
    "x = lambda n: \"Even\" if n%2==0 else \"odd\"\n",
    "print(x(2))"
   ]
  },
  {
   "cell_type": "code",
   "execution_count": null,
   "id": "25346884",
   "metadata": {},
   "outputs": [
    {
     "data": {
      "text/plain": [
       "'not Prime'"
      ]
     },
     "execution_count": 36,
     "metadata": {},
     "output_type": "execute_result"
    }
   ],
   "source": [
    "y= lambda a: \"prime\" if a==2 or a==3 or a==5 or a==7 else \"not Prime\"\n",
    "num = int(input())\n",
    "y(num)"
   ]
  },
  {
   "cell_type": "code",
   "execution_count": 37,
   "id": "98734613",
   "metadata": {},
   "outputs": [
    {
     "name": "stdout",
     "output_type": "stream",
     "text": [
      "[1, 4, 9, 16, 25, 36]\n"
     ]
    }
   ],
   "source": [
    "#Higher order functions \n",
    "# functions that accepts other function as parameter or returns the function as an output\n",
    "lst =[1,2,3,4,5,6]\n",
    "x = list(map(lambda x:x**2,lst))\n",
    "print(x)"
   ]
  },
  {
   "cell_type": "code",
   "execution_count": 40,
   "id": "8901f5a5",
   "metadata": {},
   "outputs": [
    {
     "name": "stdout",
     "output_type": "stream",
     "text": [
      "[4.90625, 32.556776000000006, 68.773536, 376.49385, 1741.4518500000004, 452.16]\n"
     ]
    }
   ],
   "source": [
    "lst = [1.25,3.22,4.68,10.95,23.55,12]\n",
    "x = list(map(lambda x:3.14*(x**2),lst))\n",
    "print(x)"
   ]
  },
  {
   "cell_type": "code",
   "execution_count": 42,
   "id": "2779890c",
   "metadata": {},
   "outputs": [
    {
     "name": "stdout",
     "output_type": "stream",
     "text": [
      "['HELLO', 'EVERYONE', 'RAJU', 'KEOLAARI']\n"
     ]
    }
   ],
   "source": [
    "lst = [\"hello\",\"everyone\",\"raju\",\"keolaari\"]\n",
    "x = list(map(lambda x:x.upper(),lst))\n",
    "print(x)"
   ]
  },
  {
   "cell_type": "code",
   "execution_count": 43,
   "id": "b3cdc564",
   "metadata": {},
   "outputs": [
    {
     "name": "stdout",
     "output_type": "stream",
     "text": [
      "[6, 7, 5, 7, 8]\n"
     ]
    }
   ],
   "source": [
    "# filter function\n",
    "# make lsit of all the elements greater than 4\n",
    "lst = [1,2,4,2,4,6,7,5,7,8]\n",
    "var = list(filter(lambda x: x>4, lst))\n",
    "print(var)"
   ]
  },
  {
   "cell_type": "code",
   "execution_count": 46,
   "id": "e1f9e860",
   "metadata": {},
   "outputs": [
    {
     "name": "stdout",
     "output_type": "stream",
     "text": [
      "['apple', 'avacado', 'amrudh', 'anaar']\n"
     ]
    }
   ],
   "source": [
    "lst = [\"apple\",'avacado',\"amrudh\",\"anaar\",\"kela\",\"tamato\"]\n",
    "var = list(filter(lambda x: x[0]==\"a\",lst))\n",
    "print(var)"
   ]
  },
  {
   "cell_type": "code",
   "execution_count": 47,
   "id": "ed52601f",
   "metadata": {},
   "outputs": [
    {
     "name": "stdout",
     "output_type": "stream",
     "text": [
      "36\n"
     ]
    }
   ],
   "source": [
    "# reduce function \n",
    "# return the sum of list \n",
    "from functools import reduce\n",
    "l = [1,2,3,4,5,6,7,8]\n",
    "y= reduce(lambda x,y:x+y,l)\n",
    "print(y)"
   ]
  },
  {
   "cell_type": "code",
   "execution_count": 48,
   "id": "3b4cbe81",
   "metadata": {},
   "outputs": [
    {
     "name": "stdout",
     "output_type": "stream",
     "text": [
      "40320\n"
     ]
    }
   ],
   "source": [
    "l = [1,2,3,4,5,6,7,8]\n",
    "y= reduce(lambda x,y:x*y,l)\n",
    "print(y)"
   ]
  },
  {
   "cell_type": "code",
   "execution_count": 49,
   "id": "abc0dbfc",
   "metadata": {},
   "outputs": [
    {
     "name": "stdout",
     "output_type": "stream",
     "text": [
      "-34\n"
     ]
    }
   ],
   "source": [
    "l = [1,2,3,4,5,6,7,8]\n",
    "y= reduce(lambda x,y:x-y,l)\n",
    "print(y)"
   ]
  },
  {
   "cell_type": "code",
   "execution_count": 54,
   "id": "3a3b4e40",
   "metadata": {},
   "outputs": [
    {
     "name": "stdout",
     "output_type": "stream",
     "text": [
      "-1\n"
     ]
    }
   ],
   "source": [
    "#return the minimum value of the list\n",
    "lst = [1.,4,3,44,5,7,78,5,7,4,0,-1]\n",
    "v = reduce(lambda x,y:x if x<y else y,lst)\n",
    "print(v)"
   ]
  },
  {
   "cell_type": "code",
   "execution_count": 52,
   "id": "af02998f",
   "metadata": {},
   "outputs": [
    {
     "name": "stdout",
     "output_type": "stream",
     "text": [
      "24\n"
     ]
    }
   ],
   "source": [
    "num = int(input())\n",
    "v = reduce(lambda x,y:x*y, range(1,num+1))\n",
    "print(v)"
   ]
  },
  {
   "cell_type": "code",
   "execution_count": null,
   "id": "f3cbd0aa",
   "metadata": {},
   "outputs": [],
   "source": []
  }
 ],
 "metadata": {
  "kernelspec": {
   "display_name": "Python 3",
   "language": "python",
   "name": "python3"
  },
  "language_info": {
   "codemirror_mode": {
    "name": "ipython",
    "version": 3
   },
   "file_extension": ".py",
   "mimetype": "text/x-python",
   "name": "python",
   "nbconvert_exporter": "python",
   "pygments_lexer": "ipython3",
   "version": "3.13.5"
  }
 },
 "nbformat": 4,
 "nbformat_minor": 5
}
