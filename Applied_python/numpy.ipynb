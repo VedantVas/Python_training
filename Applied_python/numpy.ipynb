{
 "cells": [
  {
   "cell_type": "code",
   "execution_count": 2,
   "id": "cd28c76c",
   "metadata": {},
   "outputs": [
    {
     "name": "stdout",
     "output_type": "stream",
     "text": [
      "Defaulting to user installation because normal site-packages is not writeable\n",
      "Requirement already satisfied: numpy in c:\\users\\vedant\\appdata\\roaming\\python\\python313\\site-packages (2.3.1)\n"
     ]
    }
   ],
   "source": [
    "# to install numpy in your system \n",
    "! pip3 install numpy"
   ]
  },
  {
   "cell_type": "code",
   "execution_count": null,
   "id": "9d61a088",
   "metadata": {},
   "outputs": [],
   "source": [
    "#import numpy using alias\n",
    "import numpy as np"
   ]
  },
  {
   "cell_type": "code",
   "execution_count": 6,
   "id": "c6dfee2a",
   "metadata": {},
   "outputs": [
    {
     "name": "stdout",
     "output_type": "stream",
     "text": [
      "[2 3 4 4 5 6 7 3]\n"
     ]
    }
   ],
   "source": [
    "# making numpy array using array function\n",
    "x = np.array([2,3,4,4,5,6,7,3])\n",
    "print(x)"
   ]
  },
  {
   "cell_type": "code",
   "execution_count": 8,
   "id": "06d8e26d",
   "metadata": {},
   "outputs": [
    {
     "name": "stdout",
     "output_type": "stream",
     "text": [
      "[2.  3.  4.  4.  5.  6.  7.  3.1]\n"
     ]
    }
   ],
   "source": [
    "#every element will become floating point number because of one float number\n",
    "x1 = np.array([2,3,4,4,5,6,7,3.1])\n",
    "print(x1)"
   ]
  },
  {
   "cell_type": "code",
   "execution_count": null,
   "id": "ec1ab3dc",
   "metadata": {},
   "outputs": [
    {
     "name": "stdout",
     "output_type": "stream",
     "text": [
      "<class 'numpy.ndarray'>\n"
     ]
    }
   ],
   "source": [
    "print(type(x1))# type of numpy array"
   ]
  },
  {
   "cell_type": "code",
   "execution_count": null,
   "id": "ef089205",
   "metadata": {},
   "outputs": [
    {
     "name": "stdout",
     "output_type": "stream",
     "text": [
      "<class 'list'>\n"
     ]
    }
   ],
   "source": [
    "x2 = [1,2,3,3,4]\n",
    "print(type(x2))# it will print list class"
   ]
  },
  {
   "cell_type": "code",
   "execution_count": 11,
   "id": "49fc094f",
   "metadata": {},
   "outputs": [
    {
     "name": "stdout",
     "output_type": "stream",
     "text": [
      "[1 2 3 3 4 3 2]\n",
      "<class 'numpy.ndarray'>\n"
     ]
    }
   ],
   "source": [
    "# making numpy array using tuple\n",
    "x3 = np.array((1,2,3,3,4,3,2))\n",
    "print(x3)\n",
    "print(type(x3))"
   ]
  },
  {
   "cell_type": "code",
   "execution_count": null,
   "id": "b7679135",
   "metadata": {},
   "outputs": [
    {
     "name": "stdout",
     "output_type": "stream",
     "text": [
      "[0 1 2 3]\n"
     ]
    }
   ],
   "source": [
    "a = np.arange(0,4,1)# making numpy array using arange()\n",
    "print(a)"
   ]
  },
  {
   "cell_type": "code",
   "execution_count": 15,
   "id": "9aa99971",
   "metadata": {},
   "outputs": [
    {
     "name": "stdout",
     "output_type": "stream",
     "text": [
      "[-10  -9  -8  -7  -6  -5]\n"
     ]
    }
   ],
   "source": [
    "a = np.arange(-10,-4,1)# making numpy array using arange()\n",
    "print(a)"
   ]
  },
  {
   "cell_type": "code",
   "execution_count": 16,
   "id": "4753a13f",
   "metadata": {},
   "outputs": [
    {
     "name": "stdout",
     "output_type": "stream",
     "text": [
      "[10]\n"
     ]
    }
   ],
   "source": [
    "a = np.arange(10,-4,-20)# making numpy array using arange()\n",
    "print(a)"
   ]
  },
  {
   "cell_type": "code",
   "execution_count": 25,
   "id": "9d060936",
   "metadata": {},
   "outputs": [
    {
     "data": {
      "text/plain": [
       "array([0.50823284, 0.08183614, 0.07135385])"
      ]
     },
     "execution_count": 25,
     "metadata": {},
     "output_type": "execute_result"
    }
   ],
   "source": [
    "a1 = np.random.random((3))#randomly generates number to make an array automatically\n",
    "a1"
   ]
  },
  {
   "cell_type": "code",
   "execution_count": null,
   "id": "c8ca5629",
   "metadata": {},
   "outputs": [
    {
     "name": "stdout",
     "output_type": "stream",
     "text": [
      "[ 9 19  2  3 46 19]\n",
      "\n",
      "[[6 7 4]\n",
      " [6 3 4]\n",
      " [5 9 8]]\n",
      "\n",
      "[[[9 0]\n",
      "  [9 5]\n",
      "  [4 2]]\n",
      "\n",
      " [[1 0]\n",
      "  [1 4]\n",
      "  [7 2]]\n",
      "\n",
      " [[6 9]\n",
      "  [0 6]\n",
      "  [4 0]]]\n",
      "\n"
     ]
    }
   ],
   "source": [
    "x1 = np.random.randint(50,size=6)#one dimentional array\n",
    "print(x1)\n",
    "print()\n",
    "x2 = np.random.randint(10,size =(3,3))# 2D array\n",
    "print(x2)\n",
    "print()\n",
    "x3 = np.random.randint(10,size =(3,3,2))# 3D array\n",
    "print(x3)\n",
    "print()"
   ]
  },
  {
   "cell_type": "code",
   "execution_count": null,
   "id": "946f0676",
   "metadata": {},
   "outputs": [
    {
     "name": "stdout",
     "output_type": "stream",
     "text": [
      "23\n"
     ]
    }
   ],
   "source": [
    "# an array containing single element is called 0 dimentional array\n",
    "x = np.array(23)\n",
    "print(x)# it is also called scaler vector"
   ]
  },
  {
   "cell_type": "code",
   "execution_count": null,
   "id": "bddd8715",
   "metadata": {},
   "outputs": [
    {
     "name": "stdout",
     "output_type": "stream",
     "text": [
      "dimention  0\n"
     ]
    }
   ],
   "source": [
    "\n",
    "print(\"dimention \",x.ndim)#prints dimention of the array, using ndim attribute"
   ]
  },
  {
   "cell_type": "code",
   "execution_count": 44,
   "id": "4551a6e9",
   "metadata": {},
   "outputs": [
    {
     "name": "stdout",
     "output_type": "stream",
     "text": [
      "[[[[ 7 10 34 45]\n",
      "   [36 43  4 33]\n",
      "   [12 30 40 24]]\n",
      "\n",
      "  [[ 6 16 31 26]\n",
      "   [ 9 43 13 33]\n",
      "   [ 8 25 48 44]]]]\n",
      "4 dimentions\n"
     ]
    }
   ],
   "source": [
    "arr= np.random.randint(50,size=(1,2,3,4))\n",
    "print(arr)\n",
    "print(arr.ndim,\"dimentions\")"
   ]
  },
  {
   "cell_type": "code",
   "execution_count": 1,
   "id": "3488571a",
   "metadata": {},
   "outputs": [],
   "source": [
    "import numpy as np"
   ]
  },
  {
   "cell_type": "code",
   "execution_count": 3,
   "id": "64297dcd",
   "metadata": {},
   "outputs": [
    {
     "name": "stdout",
     "output_type": "stream",
     "text": [
      "[0 1 2 3 4 5 6 7 8 9]\n",
      "[[ 0  1  2  3]\n",
      " [ 4  5  6  7]\n",
      " [ 8  9 10 11]]\n",
      "[[[ 0  1  2]\n",
      "  [ 3  4  5]\n",
      "  [ 6  7  8]\n",
      "  [ 9 10 11]]\n",
      "\n",
      " [[12 13 14]\n",
      "  [15 16 17]\n",
      "  [18 19 20]\n",
      "  [21 22 23]]]\n"
     ]
    }
   ],
   "source": [
    "arr1 = np.arange(10)\n",
    "print(arr1)\n",
    "arr2 = np.arange(12).reshape(3,4)\n",
    "print(arr2)\n",
    "arr3 = np.arange(24).reshape(2,4,3)\n",
    "print(arr3)"
   ]
  },
  {
   "cell_type": "code",
   "execution_count": null,
   "id": "58ffd719",
   "metadata": {},
   "outputs": [
    {
     "data": {
      "text/plain": [
       "array([9, 8, 7, 6, 5, 4, 3, 2, 1, 0])"
      ]
     },
     "execution_count": 4,
     "metadata": {},
     "output_type": "execute_result"
    }
   ],
   "source": [
    "arr1[::-1]\n"
   ]
  },
  {
   "cell_type": "code",
   "execution_count": 9,
   "id": "64054511",
   "metadata": {},
   "outputs": [
    {
     "data": {
      "text/plain": [
       "array([0, 1, 2, 3])"
      ]
     },
     "execution_count": 9,
     "metadata": {},
     "output_type": "execute_result"
    }
   ],
   "source": [
    "arr2[0,:]"
   ]
  },
  {
   "cell_type": "code",
   "execution_count": 8,
   "id": "f1722e22",
   "metadata": {},
   "outputs": [
    {
     "data": {
      "text/plain": [
       "array([0, 4, 8])"
      ]
     },
     "execution_count": 8,
     "metadata": {},
     "output_type": "execute_result"
    }
   ],
   "source": [
    "arr2[:,0]\n"
   ]
  },
  {
   "cell_type": "code",
   "execution_count": 10,
   "id": "8cb21f1b",
   "metadata": {},
   "outputs": [
    {
     "data": {
      "text/plain": [
       "array([[ 5,  6,  7],\n",
       "       [ 9, 10, 11]])"
      ]
     },
     "execution_count": 10,
     "metadata": {},
     "output_type": "execute_result"
    }
   ],
   "source": [
    "arr2[1:,1:]"
   ]
  },
  {
   "cell_type": "code",
   "execution_count": 11,
   "id": "1d2dddde",
   "metadata": {},
   "outputs": [
    {
     "data": {
      "text/plain": [
       "array([[0, 1],\n",
       "       [8, 9]])"
      ]
     },
     "execution_count": 11,
     "metadata": {},
     "output_type": "execute_result"
    }
   ],
   "source": [
    "arr2[::2,:2:]"
   ]
  },
  {
   "cell_type": "code",
   "execution_count": 12,
   "id": "af80629d",
   "metadata": {},
   "outputs": [
    {
     "data": {
      "text/plain": [
       "array([[ 0,  3],\n",
       "       [ 8, 11]])"
      ]
     },
     "execution_count": 12,
     "metadata": {},
     "output_type": "execute_result"
    }
   ],
   "source": [
    "arr2[::2,::3]"
   ]
  },
  {
   "cell_type": "code",
   "execution_count": 16,
   "id": "691d2945",
   "metadata": {},
   "outputs": [
    {
     "data": {
      "text/plain": [
       "array([[11,  8],\n",
       "       [ 3,  0]])"
      ]
     },
     "execution_count": 16,
     "metadata": {},
     "output_type": "execute_result"
    }
   ],
   "source": [
    "arr2[-1::-2,-1::-3]"
   ]
  },
  {
   "cell_type": "code",
   "execution_count": 24,
   "id": "9461fa5d",
   "metadata": {},
   "outputs": [
    {
     "data": {
      "text/plain": [
       "array([[ 5,  6,  7],\n",
       "       [ 9, 10, 11]])"
      ]
     },
     "execution_count": 24,
     "metadata": {},
     "output_type": "execute_result"
    }
   ],
   "source": [
    "arr2[1:,1:]"
   ]
  },
  {
   "cell_type": "code",
   "execution_count": 26,
   "id": "be9dbac5",
   "metadata": {},
   "outputs": [
    {
     "data": {
      "text/plain": [
       "array([[15, 17],\n",
       "       [21, 23]])"
      ]
     },
     "execution_count": 26,
     "metadata": {},
     "output_type": "execute_result"
    }
   ],
   "source": [
    "arr3[1,1::2,::2]"
   ]
  },
  {
   "cell_type": "code",
   "execution_count": 28,
   "id": "1d2ea222",
   "metadata": {},
   "outputs": [
    {
     "name": "stdout",
     "output_type": "stream",
     "text": [
      "[[ 0  1  2]\n",
      " [ 3  4  5]\n",
      " [ 6  7  8]\n",
      " [ 9 10 11]]\n",
      "\n",
      "[0 1 2]\n",
      "\n",
      "[[12 13 14]\n",
      " [15 16 17]\n",
      " [18 19 20]]\n",
      "\n",
      "[[0 2]\n",
      " [3 5]]\n"
     ]
    }
   ],
   "source": [
    "print(arr3[0],end='\\n\\n')\n",
    "print(arr3[0,0],end='\\n\\n')\n",
    "print(arr3[1,:3],end='\\n\\n')\n",
    "print(arr3[0,:2,::2])"
   ]
  },
  {
   "cell_type": "markdown",
   "id": "e3a8f45a",
   "metadata": {},
   "source": [
    "Numpy Array Attirbutes\n",
    "-a numpy array has several attributes that indicates the element type,element size, shapeof array, size of arrays, etc.\n",
    "-We can \n"
   ]
  },
  {
   "cell_type": "code",
   "execution_count": 29,
   "id": "f0c47444",
   "metadata": {},
   "outputs": [
    {
     "name": "stdout",
     "output_type": "stream",
     "text": [
      "int64\n",
      "float64\n"
     ]
    }
   ],
   "source": [
    "a1 = np.array([1,2,3,4,5])\n",
    "a2 = np.array([11,2.2,3.3,4.4])\n",
    "\n",
    "print(a1.dtype)\n",
    "print(a2.dtype)"
   ]
  },
  {
   "cell_type": "code",
   "execution_count": 30,
   "id": "1af94663",
   "metadata": {},
   "outputs": [
    {
     "name": "stdout",
     "output_type": "stream",
     "text": [
      "8\n",
      "8\n"
     ]
    }
   ],
   "source": [
    "print(a1.itemsize)\n",
    "print(a2.itemsize)"
   ]
  },
  {
   "cell_type": "code",
   "execution_count": 31,
   "id": "667ffd02",
   "metadata": {},
   "outputs": [
    {
     "name": "stdout",
     "output_type": "stream",
     "text": [
      "40\n",
      "32\n"
     ]
    }
   ],
   "source": [
    "print(a1.nbytes)\n",
    "print(a2.nbytes)"
   ]
  },
  {
   "cell_type": "code",
   "execution_count": 32,
   "id": "5680dc02",
   "metadata": {},
   "outputs": [
    {
     "name": "stdout",
     "output_type": "stream",
     "text": [
      "1\n",
      "2\n",
      "(4,)\n",
      "(2, 5)\n",
      "4\n",
      "10\n"
     ]
    }
   ],
   "source": [
    "a1 = np.array([1,2,3,4])\n",
    "a2 = np.array([[1,2,3,4,5],[6,7,8,0,9]])\n",
    "\n",
    "print(a1.ndim)\n",
    "print(a2.ndim)\n",
    "\n",
    "print(a1.shape)\n",
    "print(a2.shape)\n",
    "\n",
    "print(a1.size)\n",
    "print(a2.size)"
   ]
  },
  {
   "cell_type": "code",
   "execution_count": 34,
   "id": "d88b4e9e",
   "metadata": {},
   "outputs": [
    {
     "name": "stdout",
     "output_type": "stream",
     "text": [
      "[0. 0. 0. 0. 0. 0. 0. 0. 0. 0.]\n",
      "\n",
      "[[0. 0. 0. 0. 0. 0.]\n",
      " [0. 0. 0. 0. 0. 0.]\n",
      " [0. 0. 0. 0. 0. 0.]]\n",
      "\n",
      "[[[0. 0.]\n",
      "  [0. 0.]\n",
      "  [0. 0.]]\n",
      "\n",
      " [[0. 0.]\n",
      "  [0. 0.]\n",
      "  [0. 0.]]]\n",
      "\n"
     ]
    }
   ],
   "source": [
    "print(np.zeros(10))\n",
    "print()\n",
    "print(np.zeros((3,6)))\n",
    "print()\n",
    "print(np.zeros((2,3,2)))\n",
    "print()"
   ]
  },
  {
   "cell_type": "code",
   "execution_count": 38,
   "id": "a1d069c3",
   "metadata": {},
   "outputs": [
    {
     "name": "stdout",
     "output_type": "stream",
     "text": [
      "[1 1 1 1 1 1 1 1 1 1]\n",
      "\n",
      "[[1 1 1 1 1 1]\n",
      " [1 1 1 1 1 1]\n",
      " [1 1 1 1 1 1]]\n",
      "\n",
      "[[[1 1]\n",
      "  [1 1]\n",
      "  [1 1]]\n",
      "\n",
      " [[1 1]\n",
      "  [1 1]\n",
      "  [1 1]]]\n",
      "\n"
     ]
    }
   ],
   "source": [
    "print(np.ones(10,dtype='int'))\n",
    "print()\n",
    "print(np.ones((3,6),dtype='int'))\n",
    "print()\n",
    "print(np.ones((2,3,2),dtype='int'))\n",
    "print()"
   ]
  },
  {
   "cell_type": "code",
   "execution_count": 40,
   "id": "bdf4adb9",
   "metadata": {},
   "outputs": [
    {
     "data": {
      "text/plain": [
       "array([[1., 0.],\n",
       "       [0., 1.]])"
      ]
     },
     "execution_count": 40,
     "metadata": {},
     "output_type": "execute_result"
    }
   ],
   "source": [
    "np.identity(2)#default data as float \n"
   ]
  },
  {
   "cell_type": "code",
   "execution_count": 41,
   "id": "48eab588",
   "metadata": {},
   "outputs": [
    {
     "name": "stdout",
     "output_type": "stream",
     "text": [
      "[1 3 5 7]\n",
      "[2 4 6 8]\n"
     ]
    }
   ],
   "source": [
    "a1 = np.array([1,3,5,7])\n",
    "b1 = np.array([2,4,6,8])\n",
    "\n",
    "print(a1)\n",
    "print(b1)"
   ]
  },
  {
   "cell_type": "markdown",
   "id": "d5d37d3d",
   "metadata": {},
   "source": [
    "1. Scaler operation\n"
   ]
  },
  {
   "cell_type": "code",
   "execution_count": 42,
   "id": "e0482257",
   "metadata": {},
   "outputs": [
    {
     "name": "stdout",
     "output_type": "stream",
     "text": [
      "[ 6  8 10 12]\n",
      "[-4 -2  0  2]\n",
      "[ 2  6 10 14]\n",
      "[0.5 1.5 2.5 3.5]\n",
      "[0 1 2 3]\n",
      "[-1 -3 -5 -7]\n",
      "[ 1  9 25 49]\n",
      "[1 1 1 1]\n"
     ]
    }
   ],
   "source": [
    "#all scalar operations on 1D array using operators\n",
    "print(a1+5)\n",
    "print(a1-5)\n",
    "print(a1*2)\n",
    "print(a1/2)\n",
    "print(a1//2)\n",
    "print(-a1)\n",
    "print(a1**2)\n",
    "print(a1%2)"
   ]
  },
  {
   "cell_type": "markdown",
   "id": "4dd1a14b",
   "metadata": {},
   "source": [
    "Dot product\n"
   ]
  },
  {
   "cell_type": "code",
   "execution_count": 4,
   "id": "0101d4d9",
   "metadata": {},
   "outputs": [
    {
     "data": {
      "text/plain": [
       "np.int64(33)"
      ]
     },
     "execution_count": 4,
     "metadata": {},
     "output_type": "execute_result"
    }
   ],
   "source": [
    "import numpy as np\n",
    "arr1 = np.array([1,2,3])\n",
    "arr2 = np.array([2,5,7])\n",
    "np.dot(arr1,arr2)"
   ]
  },
  {
   "cell_type": "code",
   "execution_count": 5,
   "id": "8db47be9",
   "metadata": {},
   "outputs": [
    {
     "data": {
      "text/plain": [
       "array([[ 0,  1,  2,  3,  4],\n",
       "       [ 5,  6,  7,  8,  9],\n",
       "       [10, 11, 12, 13, 14],\n",
       "       [15, 16, 17, 18, 19],\n",
       "       [20, 21, 22, 23, 24],\n",
       "       [25, 26, 27, 28, 29],\n",
       "       [30, 31, 32, 33, 34],\n",
       "       [35, 36, 37, 38, 39],\n",
       "       [40, 41, 42, 43, 44],\n",
       "       [45, 46, 47, 48, 49]])"
      ]
     },
     "execution_count": 5,
     "metadata": {},
     "output_type": "execute_result"
    }
   ],
   "source": [
    "x = np.arange(50).reshape(10,5)\n",
    "x"
   ]
  },
  {
   "cell_type": "code",
   "execution_count": 6,
   "id": "39d8baee",
   "metadata": {},
   "outputs": [
    {
     "data": {
      "text/plain": [
       "np.float64(24.5)"
      ]
     },
     "execution_count": 6,
     "metadata": {},
     "output_type": "execute_result"
    }
   ],
   "source": [
    "np.mean(x)"
   ]
  },
  {
   "cell_type": "code",
   "execution_count": null,
   "id": "08bab8d5",
   "metadata": {},
   "outputs": [
    {
     "data": {
      "text/plain": [
       "array([22.5, 23.5, 24.5, 25.5, 26.5])"
      ]
     },
     "execution_count": 7,
     "metadata": {},
     "output_type": "execute_result"
    }
   ],
   "source": [
    "np.mean(x,axis=0)# mean of individual columns"
   ]
  },
  {
   "cell_type": "code",
   "execution_count": null,
   "id": "dbaffa92",
   "metadata": {},
   "outputs": [
    {
     "data": {
      "text/plain": [
       "array([ 2.,  7., 12., 17., 22., 27., 32., 37., 42., 47.])"
      ]
     },
     "execution_count": 8,
     "metadata": {},
     "output_type": "execute_result"
    }
   ],
   "source": [
    "np.mean(x,axis=1)#mean of individual rows"
   ]
  },
  {
   "cell_type": "code",
   "execution_count": 10,
   "id": "6f6d8392",
   "metadata": {},
   "outputs": [
    {
     "data": {
      "text/plain": [
       "array([[ 0,  1,  2,  3,  4],\n",
       "       [ 5,  6,  7,  8,  9],\n",
       "       [10, 11, 12, 13, 14],\n",
       "       [15, 16, 17, 18, 19]])"
      ]
     },
     "execution_count": 10,
     "metadata": {},
     "output_type": "execute_result"
    }
   ],
   "source": [
    "y = np.arange(20).reshape(4,5)\n",
    "y"
   ]
  },
  {
   "cell_type": "code",
   "execution_count": 11,
   "id": "405461d1",
   "metadata": {},
   "outputs": [
    {
     "data": {
      "text/plain": [
       "np.int64(19)"
      ]
     },
     "execution_count": 11,
     "metadata": {},
     "output_type": "execute_result"
    }
   ],
   "source": [
    "np.max(y)"
   ]
  },
  {
   "cell_type": "code",
   "execution_count": 12,
   "id": "a2edd4d3",
   "metadata": {},
   "outputs": [
    {
     "data": {
      "text/plain": [
       "np.int64(0)"
      ]
     },
     "execution_count": 12,
     "metadata": {},
     "output_type": "execute_result"
    }
   ],
   "source": [
    "np.min(x)"
   ]
  },
  {
   "cell_type": "code",
   "execution_count": 13,
   "id": "30915d34",
   "metadata": {},
   "outputs": [
    {
     "data": {
      "text/plain": [
       "np.int64(49)"
      ]
     },
     "execution_count": 13,
     "metadata": {},
     "output_type": "execute_result"
    }
   ],
   "source": [
    "np.max(x)"
   ]
  },
  {
   "cell_type": "code",
   "execution_count": 14,
   "id": "0aa909e7",
   "metadata": {},
   "outputs": [
    {
     "data": {
      "text/plain": [
       "array([0, 1, 2, 3, 4])"
      ]
     },
     "execution_count": 14,
     "metadata": {},
     "output_type": "execute_result"
    }
   ],
   "source": [
    "np.min(x,axis=0)"
   ]
  },
  {
   "cell_type": "code",
   "execution_count": 15,
   "id": "5331fd48",
   "metadata": {},
   "outputs": [
    {
     "data": {
      "text/plain": [
       "array([ 0,  5, 10, 15, 20, 25, 30, 35, 40, 45])"
      ]
     },
     "execution_count": 15,
     "metadata": {},
     "output_type": "execute_result"
    }
   ],
   "source": [
    "np.min(x,axis=1)"
   ]
  },
  {
   "cell_type": "code",
   "execution_count": 16,
   "id": "ef4c2159",
   "metadata": {},
   "outputs": [
    {
     "data": {
      "text/plain": [
       "np.float64(208.25)"
      ]
     },
     "execution_count": 16,
     "metadata": {},
     "output_type": "execute_result"
    }
   ],
   "source": [
    "np.var(x)"
   ]
  },
  {
   "cell_type": "code",
   "execution_count": 17,
   "id": "c5442ad3",
   "metadata": {},
   "outputs": [
    {
     "data": {
      "text/plain": [
       "array([206.25, 206.25, 206.25, 206.25, 206.25])"
      ]
     },
     "execution_count": 17,
     "metadata": {},
     "output_type": "execute_result"
    }
   ],
   "source": [
    "np.var(x,axis=0)"
   ]
  },
  {
   "cell_type": "code",
   "execution_count": 18,
   "id": "82f52a42",
   "metadata": {},
   "outputs": [
    {
     "data": {
      "text/plain": [
       "array([2., 2., 2., 2., 2., 2., 2., 2., 2., 2.])"
      ]
     },
     "execution_count": 18,
     "metadata": {},
     "output_type": "execute_result"
    }
   ],
   "source": [
    "np.var(x,axis=1)"
   ]
  },
  {
   "cell_type": "code",
   "execution_count": 19,
   "id": "cda11364",
   "metadata": {},
   "outputs": [
    {
     "data": {
      "text/plain": [
       "np.int64(1225)"
      ]
     },
     "execution_count": 19,
     "metadata": {},
     "output_type": "execute_result"
    }
   ],
   "source": [
    "np.sum(x)"
   ]
  },
  {
   "cell_type": "code",
   "execution_count": 20,
   "id": "0095db39",
   "metadata": {},
   "outputs": [
    {
     "data": {
      "text/plain": [
       "array([225, 235, 245, 255, 265])"
      ]
     },
     "execution_count": 20,
     "metadata": {},
     "output_type": "execute_result"
    }
   ],
   "source": [
    "np.sum(x,axis=0)"
   ]
  },
  {
   "cell_type": "code",
   "execution_count": 21,
   "id": "4071f971",
   "metadata": {},
   "outputs": [
    {
     "data": {
      "text/plain": [
       "array([ 10,  35,  60,  85, 110, 135, 160, 185, 210, 235])"
      ]
     },
     "execution_count": 21,
     "metadata": {},
     "output_type": "execute_result"
    }
   ],
   "source": [
    "np.sum(x,axis=1)"
   ]
  },
  {
   "cell_type": "code",
   "execution_count": 23,
   "id": "641823d3",
   "metadata": {},
   "outputs": [],
   "source": [
    "p25 = np.percentile(x,25)\n",
    "p50 = np.percentile(x,50)\n",
    "p75 = np.percentile(x,75)\n",
    "p100 = np.percentile(x,100)"
   ]
  },
  {
   "cell_type": "code",
   "execution_count": 24,
   "id": "b59ab7ed",
   "metadata": {},
   "outputs": [
    {
     "name": "stdout",
     "output_type": "stream",
     "text": [
      "25th percentile 12.25\n",
      "50th percentile 24.5\n",
      "75th percentile 36.75\n",
      "100th percentile 49.0\n"
     ]
    }
   ],
   "source": [
    "print(\"25th percentile\",p25)\n",
    "print(\"50th percentile\",p50)\n",
    "print(\"75th percentile\",p75)\n",
    "print(\"100th percentile\",p100)"
   ]
  },
  {
   "cell_type": "code",
   "execution_count": 25,
   "id": "5684f618",
   "metadata": {},
   "outputs": [
    {
     "name": "stdout",
     "output_type": "stream",
     "text": [
      "2 3 4 1 4 2 5 5 7 8 6 9 "
     ]
    }
   ],
   "source": [
    "a1 = np.array([2,3,4,1,4,2,5,5,7,8,6,9])\n",
    "for i in a1:\n",
    "    print(i,end = \" \")"
   ]
  },
  {
   "cell_type": "code",
   "execution_count": 26,
   "id": "cab8389b",
   "metadata": {},
   "outputs": [
    {
     "name": "stdout",
     "output_type": "stream",
     "text": [
      "2 4 4 2 8 6 "
     ]
    }
   ],
   "source": [
    "a1 = np.array([2,3,4,1,4,2,5,5,7,8,6,9])\n",
    "for i in a1:\n",
    "    if i%2==0:\n",
    "        print(i,end = \" \")"
   ]
  },
  {
   "cell_type": "code",
   "execution_count": 29,
   "id": "6f679e4a",
   "metadata": {},
   "outputs": [
    {
     "name": "stdout",
     "output_type": "stream",
     "text": [
      "[0 1 2 3 4]\n",
      "\n",
      "[5 6 7 8 9]\n",
      "\n",
      "[10 11 12 13 14]\n",
      "\n",
      "[15 16 17 18 19]\n",
      "\n"
     ]
    }
   ],
   "source": [
    "a2 = np.arange(20).reshape(4,5)\n",
    "for i in a2:\n",
    "    print(i,end=\"\\n\\n\")"
   ]
  },
  {
   "cell_type": "markdown",
   "id": "49ffdf87",
   "metadata": {},
   "source": [
    "stacking of numpy array"
   ]
  },
  {
   "cell_type": "code",
   "execution_count": 30,
   "id": "c8b704e8",
   "metadata": {},
   "outputs": [],
   "source": [
    "s1 = np.arange(12).reshape(4,3)\n",
    "s2 = np.arange(12,24).reshape(4,3)"
   ]
  },
  {
   "cell_type": "code",
   "execution_count": 31,
   "id": "9f3eee92",
   "metadata": {},
   "outputs": [
    {
     "data": {
      "text/plain": [
       "array([[ 0,  1,  2],\n",
       "       [ 3,  4,  5],\n",
       "       [ 6,  7,  8],\n",
       "       [ 9, 10, 11]])"
      ]
     },
     "execution_count": 31,
     "metadata": {},
     "output_type": "execute_result"
    }
   ],
   "source": [
    "s1"
   ]
  },
  {
   "cell_type": "code",
   "execution_count": 32,
   "id": "d5102306",
   "metadata": {},
   "outputs": [
    {
     "data": {
      "text/plain": [
       "array([[12, 13, 14],\n",
       "       [15, 16, 17],\n",
       "       [18, 19, 20],\n",
       "       [21, 22, 23]])"
      ]
     },
     "execution_count": 32,
     "metadata": {},
     "output_type": "execute_result"
    }
   ],
   "source": [
    "s2"
   ]
  },
  {
   "cell_type": "code",
   "execution_count": null,
   "id": "31cb66ec",
   "metadata": {},
   "outputs": [
    {
     "data": {
      "text/plain": [
       "array([[ 0,  1,  2, 12, 13, 14],\n",
       "       [ 3,  4,  5, 15, 16, 17],\n",
       "       [ 6,  7,  8, 18, 19, 20],\n",
       "       [ 9, 10, 11, 21, 22, 23]])"
      ]
     },
     "execution_count": 33,
     "metadata": {},
     "output_type": "execute_result"
    }
   ],
   "source": [
    "s3 = np.hstack((s1,s2))# horizontal stack\n",
    "s3"
   ]
  },
  {
   "cell_type": "code",
   "execution_count": null,
   "id": "95f92e4b",
   "metadata": {},
   "outputs": [
    {
     "data": {
      "text/plain": [
       "array([[ 0,  1,  2],\n",
       "       [ 3,  4,  5],\n",
       "       [ 6,  7,  8],\n",
       "       [ 9, 10, 11],\n",
       "       [12, 13, 14],\n",
       "       [15, 16, 17],\n",
       "       [18, 19, 20],\n",
       "       [21, 22, 23]])"
      ]
     },
     "execution_count": 34,
     "metadata": {},
     "output_type": "execute_result"
    }
   ],
   "source": [
    "s4 = np.vstack((s1,s2))# vertical stack\n",
    "s4"
   ]
  },
  {
   "cell_type": "markdown",
   "id": "31cf3e42",
   "metadata": {},
   "source": [
    "spliting of numpy array "
   ]
  },
  {
   "cell_type": "code",
   "execution_count": 37,
   "id": "bf037dd2",
   "metadata": {},
   "outputs": [
    {
     "data": {
      "text/plain": [
       "[array([[ 0,  1,  2],\n",
       "        [ 3,  4,  5],\n",
       "        [ 6,  7,  8],\n",
       "        [ 9, 10, 11]]),\n",
       " array([[12, 13, 14],\n",
       "        [15, 16, 17],\n",
       "        [18, 19, 20],\n",
       "        [21, 22, 23]])]"
      ]
     },
     "execution_count": 37,
     "metadata": {},
     "output_type": "execute_result"
    }
   ],
   "source": [
    "a1 = np.hsplit(s3,2)\n",
    "a1"
   ]
  },
  {
   "cell_type": "code",
   "execution_count": 40,
   "id": "eec9fa6d",
   "metadata": {},
   "outputs": [
    {
     "data": {
      "text/plain": [
       "[array([[ 0,  1],\n",
       "        [ 3,  4],\n",
       "        [ 6,  7],\n",
       "        [ 9, 10]]),\n",
       " array([[ 2, 12],\n",
       "        [ 5, 15],\n",
       "        [ 8, 18],\n",
       "        [11, 21]]),\n",
       " array([[13, 14],\n",
       "        [16, 17],\n",
       "        [19, 20],\n",
       "        [22, 23]])]"
      ]
     },
     "execution_count": 40,
     "metadata": {},
     "output_type": "execute_result"
    }
   ],
   "source": [
    "a2 = np.hsplit(s3,3)\n",
    "a2"
   ]
  },
  {
   "cell_type": "code",
   "execution_count": 44,
   "id": "3eac3fc8",
   "metadata": {},
   "outputs": [
    {
     "data": {
      "text/plain": [
       "[array([[ 0,  1,  2, 12, 13, 14]]),\n",
       " array([[ 3,  4,  5, 15, 16, 17]]),\n",
       " array([[ 6,  7,  8, 18, 19, 20]]),\n",
       " array([[ 9, 10, 11, 21, 22, 23]])]"
      ]
     },
     "execution_count": 44,
     "metadata": {},
     "output_type": "execute_result"
    }
   ],
   "source": [
    "a3 = np.vsplit(s3,4)\n",
    "a3"
   ]
  },
  {
   "cell_type": "code",
   "execution_count": null,
   "id": "4d429c67",
   "metadata": {},
   "outputs": [],
   "source": []
  }
 ],
 "metadata": {
  "kernelspec": {
   "display_name": "Python 3",
   "language": "python",
   "name": "python3"
  },
  "language_info": {
   "codemirror_mode": {
    "name": "ipython",
    "version": 3
   },
   "file_extension": ".py",
   "mimetype": "text/x-python",
   "name": "python",
   "nbconvert_exporter": "python",
   "pygments_lexer": "ipython3",
   "version": "3.13.5"
  }
 },
 "nbformat": 4,
 "nbformat_minor": 5
}
