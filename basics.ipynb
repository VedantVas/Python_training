{
 "cells": [
  {
   "cell_type": "code",
   "execution_count": 1,
   "id": "94f5367a",
   "metadata": {},
   "outputs": [
    {
     "name": "stdout",
     "output_type": "stream",
     "text": [
      "hello\n"
     ]
    }
   ],
   "source": [
    "print(\"hello\")"
   ]
  },
  {
   "cell_type": "code",
   "execution_count": 2,
   "id": "1434d488",
   "metadata": {},
   "outputs": [
    {
     "name": "stdout",
     "output_type": "stream",
     "text": [
      "140732992668712 140732992669032 140732992668712\n"
     ]
    }
   ],
   "source": [
    "x =5\n",
    "y =15\n",
    "z = 5\n",
    "print(id(x),id(y),id(z))"
   ]
  },
  {
   "cell_type": "code",
   "execution_count": 3,
   "id": "0d1ffd46",
   "metadata": {},
   "outputs": [
    {
     "name": "stdout",
     "output_type": "stream",
     "text": [
      "Your age is: 21\n",
      "Your name is: vedant\n",
      "Your height is: 157\n"
     ]
    }
   ],
   "source": [
    "name = input(\"Enter you name \")\n",
    "age = int(input(\"Enter your age\"))\n",
    "height = eval(input(\"Enter your height\"))#eval can also be used for ease of use\n",
    "print(\"Your age is:\",age)\n",
    "print(\"Your name is:\",name)\n",
    "print(\"Your height is:\",height)"
   ]
  },
  {
   "cell_type": "code",
   "execution_count": 4,
   "id": "31ed7a2f",
   "metadata": {},
   "outputs": [
    {
     "name": "stdout",
     "output_type": "stream",
     "text": [
      "Area of rectangle is: 132\n",
      "Perimeter of rectangle is: 46\n"
     ]
    }
   ],
   "source": [
    "length = int(input(\"Enter the length\"))\n",
    "width = int(input(\"Enter the width\"))\n",
    "print(\"Area of rectangle is:\",length*width)\n",
    "print(\"Perimeter of rectangle is:\",2*(length+width))"
   ]
  },
  {
   "cell_type": "code",
   "execution_count": null,
   "id": "d1394ac4",
   "metadata": {},
   "outputs": [
    {
     "name": "stdout",
     "output_type": "stream",
     "text": [
      "Adult\n"
     ]
    }
   ],
   "source": [
    "age = int(input(\"Ehter the age \"))\n",
    "if(age<=12): print(\"Child\")\n",
    "elif(age<=19): print(\"Teen \")\n",
    "elif(age<=45): print(\"Adult\")\n",
    "else:\n",
    "    print(\"Senior\")"
   ]
  },
  {
   "cell_type": "code",
   "execution_count": 7,
   "id": "69437d69",
   "metadata": {},
   "outputs": [
    {
     "name": "stdout",
     "output_type": "stream",
     "text": [
      "YES,you can vote\n"
     ]
    }
   ],
   "source": [
    "age = int(input(\"Enter your age\"))\n",
    "if age >=18:\n",
    "    print(\"YES,you can vote\")\n",
    "else:\n",
    "    print(\"NO, you can't vote\")    "
   ]
  },
  {
   "cell_type": "code",
   "execution_count": null,
   "id": "53295342",
   "metadata": {},
   "outputs": [
    {
     "name": "stdout",
     "output_type": "stream",
     "text": [
      "fizz\n"
     ]
    }
   ],
   "source": [
    "num = int(input('Enter the number'))\n",
    "if num%3 ==0 and num%5 ==0:\n",
    "    print(\"fizzbuzz\")\n",
    "elif num%5==0:\n",
    "    print(\"Buzz\")\n",
    "elif (num%3 ==0):\n",
    "    print(\"fizz\")\n",
    "else:\n",
    "    print(\"Not divisible\")            "
   ]
  },
  {
   "cell_type": "code",
   "execution_count": 13,
   "id": "133e01ba",
   "metadata": {},
   "outputs": [
    {
     "name": "stdout",
     "output_type": "stream",
     "text": [
      "1 12 32\n"
     ]
    }
   ],
   "source": [
    "a,b,c = map(int,input().split())\n",
    "if(a<b and b<c): print(a,b,c)\n",
    "elif(a>b and a<c):print(b,a,c)\n",
    "elif(a>b and b>c): print(c,b,a)\n",
    "elif(b<c and c<a): print(b,c,a)\n",
    "elif(c<a and a<b): print(c,a,b)\n",
    "else: print(a,c,b)"
   ]
  },
  {
   "cell_type": "code",
   "execution_count": null,
   "id": "9899a547",
   "metadata": {},
   "outputs": [
    {
     "ename": "ValueError",
     "evalue": "invalid literal for int() with base 10: ''",
     "output_type": "error",
     "traceback": [
      "\u001b[31m---------------------------------------------------------------------------\u001b[39m",
      "\u001b[31mValueError\u001b[39m                                Traceback (most recent call last)",
      "\u001b[36mCell\u001b[39m\u001b[36m \u001b[39m\u001b[32mIn[36]\u001b[39m\u001b[32m, line 1\u001b[39m\n\u001b[32m----> \u001b[39m\u001b[32m1\u001b[39m bill = \u001b[38;5;28;43mint\u001b[39;49m\u001b[43m(\u001b[49m\u001b[38;5;28;43minput\u001b[39;49m\u001b[43m(\u001b[49m\u001b[33;43m\"\u001b[39;49m\u001b[33;43mEnter your bill\u001b[39;49m\u001b[33;43m\"\u001b[39;49m\u001b[43m)\u001b[49m\u001b[43m)\u001b[49m\n\u001b[32m      2\u001b[39m \u001b[38;5;28;01mif\u001b[39;00m(bill<=\u001b[32m50\u001b[39m):\n\u001b[32m      3\u001b[39m     cost = bill*(\u001b[32m.50\u001b[39m)\n",
      "\u001b[31mValueError\u001b[39m: invalid literal for int() with base 10: ''"
     ]
    }
   ],
   "source": [
    "bill = int(input(\"Enter your bill\"))\n",
    "if(bill<=50):\n",
    "    cost = bill*(.50)\n",
    "    cost += 2*(cost/10)\n",
    "    print(cost)\n",
    "elif(bill>50 and bill<=200):\n",
    "    #cost = 50*.50 +(bill-50)*.75\n",
    "    cost = 50*.50\n",
    "    bill = bill-50\n",
    "    cost += bill*.75\n",
    "    cost += 2*(cost/10)\n",
    "    print(cost)\n",
    "elif(bill>200 and bill<=450):\n",
    "    #cost = 50*.50+150*.75+(bill-200)*1.20\n",
    "    cost = 50*.50\n",
    "    bill = bill-50\n",
    "    cost +=150*.75\n",
    "    bill = bill-150\n",
    "    cost += bill*1.20\n",
    "    cost += 2*(cost/10)\n",
    "    print(cost)\n",
    "else:   \n",
    "    # cost = 50*.50+150*.75+250*1.20+(bill-450)*1.50\n",
    "    cost = 50*.50\n",
    "    bill = bill-50\n",
    "    cost +=150*.75\n",
    "    bill = bill-150\n",
    "    cost += 250*1.20\n",
    "    bill = bill-250\n",
    "    cost += bill*1.50\n",
    "    cost += 2*(cost/10)\n",
    "    print(cost)\n",
    "    "
   ]
  },
  {
   "cell_type": "code",
   "execution_count": 28,
   "id": "ac75c20f",
   "metadata": {},
   "outputs": [
    {
     "name": "stdout",
     "output_type": "stream",
     "text": [
      "Summer\n"
     ]
    }
   ],
   "source": [
    "month = int(input(\"Enter the month\"))\n",
    "if(month>= 3 and month<=5):\n",
    "    print(\"Spring\")\n",
    "elif(month >=6 and month<=8):\n",
    "    print(\"Summer\")\n",
    "elif(month >=9 and month<=11):\n",
    "    print(\"Autumn\")\n",
    "else:\n",
    "    print(\"Winter\")            "
   ]
  },
  {
   "cell_type": "code",
   "execution_count": 32,
   "id": "a1b48a40",
   "metadata": {},
   "outputs": [
    {
     "name": "stdout",
     "output_type": "stream",
     "text": [
      "22.0\n"
     ]
    }
   ],
   "source": [
    "print(220/10)"
   ]
  },
  {
   "cell_type": "code",
   "execution_count": 37,
   "id": "e7318115",
   "metadata": {},
   "outputs": [
    {
     "name": "stdout",
     "output_type": "stream",
     "text": [
      "510\n"
     ]
    }
   ],
   "source": [
    "km = int(input(\"Enter the kilometers \"))\n",
    "if km <=10:\n",
    "    cost = km*11\n",
    "\n",
    "elif km<=100:\n",
    "    cost = 10*11 + (km-10)*10\n",
    "\n",
    "else:\n",
    "    cost = 10*11 +90*10 +(km-100)*9\n",
    "\n",
    "print(cost)    "
   ]
  },
  {
   "cell_type": "code",
   "execution_count": 39,
   "id": "ca8601f3",
   "metadata": {},
   "outputs": [
    {
     "name": "stdout",
     "output_type": "stream",
     "text": [
      "1 3 5 7 9 11 13 15 17 19 "
     ]
    }
   ],
   "source": [
    "n = 1\n",
    "while n<=19:\n",
    "    print(n,end = \" \")\n",
    "    n+=2"
   ]
  },
  {
   "cell_type": "code",
   "execution_count": 41,
   "id": "07cd19a9",
   "metadata": {},
   "outputs": [
    {
     "name": "stdout",
     "output_type": "stream",
     "text": [
      "Sum_even is  110\n",
      "Sum_odd is  100\n"
     ]
    }
   ],
   "source": [
    "n1 = 1\n",
    "n2 = 2\n",
    "sum_even = 0\n",
    "sum_odd = 0\n",
    "while n2 <=20:\n",
    "\n",
    "    sum_even += n2\n",
    "    n2 +=2\n",
    "    sum_odd += n1\n",
    "    n1 += 2\n",
    "print(\"Sum_even is \",sum_even)\n",
    "print(\"Sum_odd is \",sum_odd)    "
   ]
  },
  {
   "cell_type": "code",
   "execution_count": 43,
   "id": "83bb475c",
   "metadata": {},
   "outputs": [
    {
     "name": "stdout",
     "output_type": "stream",
     "text": [
      "Sum_even is  110\n",
      "Sum_odd is  100\n"
     ]
    }
   ],
   "source": [
    "n = 1\n",
    "sum_even = 0\n",
    "sum_odd = 0\n",
    "while n<=20:\n",
    "    if(n%2!=0):\n",
    "        sum_odd += n\n",
    "        n+=1\n",
    "    elif(n%2==0):\n",
    "        sum_even +=n\n",
    "        n+=1\n",
    "\n",
    "print(\"Sum_even is \",sum_even)\n",
    "print(\"Sum_odd is \",sum_odd)          \n"
   ]
  },
  {
   "cell_type": "code",
   "execution_count": null,
   "id": "0269bb00",
   "metadata": {},
   "outputs": [
    {
     "name": "stdout",
     "output_type": "stream",
     "text": [
      "1 2 3 4 6 12 "
     ]
    }
   ],
   "source": [
    "n = 1\n",
    "user_n = int(input(\"Enter your number\"))\n",
    "while n<=user_n:\n",
    "    if user_n%n==0:\n",
    "    \n",
    "        print(n,end = \" \")\n",
    "    n +=1\n"
   ]
  },
  {
   "cell_type": "code",
   "execution_count": 47,
   "id": "016239f2",
   "metadata": {},
   "outputs": [
    {
     "name": "stdout",
     "output_type": "stream",
     "text": [
      "24\n",
      "4\n"
     ]
    }
   ],
   "source": [
    "n = 1\n",
    "user_n = int(input(\"Enter your number\"))\n",
    "even_fact_sum = 0\n",
    "odd_fact_sum = 0\n",
    "while n<=user_n:\n",
    "    if user_n%n==0:\n",
    "        fact = n\n",
    "        if fact%2==0:\n",
    "            even_fact_sum += fact\n",
    "        else:\n",
    "            odd_fact_sum += fact\n",
    "    \n",
    "    n +=1\n",
    "print(even_fact_sum)\n",
    "print(odd_fact_sum)    "
   ]
  },
  {
   "cell_type": "code",
   "execution_count": 53,
   "id": "fcd8ad43",
   "metadata": {},
   "outputs": [
    {
     "name": "stdout",
     "output_type": "stream",
     "text": [
      "3.0\n"
     ]
    }
   ],
   "source": [
    "print(30/10)"
   ]
  },
  {
   "cell_type": "code",
   "execution_count": 59,
   "id": "57a77438",
   "metadata": {},
   "outputs": [
    {
     "name": "stdout",
     "output_type": "stream",
     "text": [
      "2\n"
     ]
    }
   ],
   "source": [
    "num = int(input(\"Enter the number\"))\n",
    "count = 0\n",
    "while num !=0:\n",
    "    num = num//10\n",
    "    count += 1\n",
    "print(count)    \n"
   ]
  },
  {
   "cell_type": "code",
   "execution_count": 70,
   "id": "00377612",
   "metadata": {},
   "outputs": [
    {
     "ename": "KeyboardInterrupt",
     "evalue": "",
     "output_type": "error",
     "traceback": [
      "\u001b[31m---------------------------------------------------------------------------\u001b[39m",
      "\u001b[31mKeyboardInterrupt\u001b[39m                         Traceback (most recent call last)",
      "\u001b[36mCell\u001b[39m\u001b[36m \u001b[39m\u001b[32mIn[70]\u001b[39m\u001b[32m, line 4\u001b[39m\n\u001b[32m      2\u001b[39m \u001b[38;5;28msum\u001b[39m = \u001b[32m0\u001b[39m\n\u001b[32m      3\u001b[39m n = \u001b[32m0\u001b[39m\n\u001b[32m----> \u001b[39m\u001b[32m4\u001b[39m \u001b[38;5;28;01mwhile\u001b[39;00m num !=\u001b[32m0\u001b[39m:\n\u001b[32m      5\u001b[39m     n = num%\u001b[32m10\u001b[39m\n\u001b[32m      6\u001b[39m     \u001b[38;5;28msum\u001b[39m = \u001b[38;5;28msum\u001b[39m+n\n",
      "\u001b[31mKeyboardInterrupt\u001b[39m: "
     ]
    }
   ],
   "source": [
    "num = int(input(\"Enter the number\"))\n",
    "sum = 0\n",
    "n = 0\n",
    "while num !=0:\n",
    "    n = num%10\n",
    "    sum = sum+n\n",
    "    num = num-n\n",
    "print(sum)   "
   ]
  },
  {
   "cell_type": "code",
   "execution_count": 17,
   "id": "55e93712",
   "metadata": {},
   "outputs": [
    {
     "name": "stdout",
     "output_type": "stream",
     "text": [
      "321\n"
     ]
    }
   ],
   "source": [
    "#reverse the number\n",
    "num = int(input())\n",
    "rev_num = 0\n",
    "#temp = 0\n",
    "while num != 0:\n",
    "    r = num%10\n",
    "    rev_num = rev_num*10 + r\n",
    "    num = num //10\n",
    "\n",
    "print(rev_num)    "
   ]
  },
  {
   "cell_type": "code",
   "execution_count": 78,
   "id": "642ee8b3",
   "metadata": {},
   "outputs": [
    {
     "name": "stdout",
     "output_type": "stream",
     "text": [
      "No it is not a palindrom\n"
     ]
    }
   ],
   "source": [
    "num = int(input())\n",
    "rev_num = 0\n",
    "temp = num\n",
    "while num != 0:\n",
    "    r = num%10\n",
    "    rev_num = rev_num*10 + r\n",
    "    num = num //10\n",
    "if temp == rev_num:\n",
    "    print(\"It is palindrom\")\n",
    "else:\n",
    "    print(\"No it is not a palindrom\")     \n"
   ]
  },
  {
   "cell_type": "code",
   "execution_count": null,
   "id": "d20a581e",
   "metadata": {},
   "outputs": [
    {
     "name": "stdout",
     "output_type": "stream",
     "text": [
      "3\n",
      "It is not a narcissictic number\n"
     ]
    }
   ],
   "source": [
    "#narcisistic number \n",
    "num = int(input(\"Enter the number\"))\n",
    "temp= num\n",
    "num1 = num\n",
    "count = 0\n",
    "sum = 0\n",
    "while num !=0:\n",
    "    num = num//10\n",
    "    count += 1\n",
    "#print(count)    \n",
    "   \n",
    "while num1 != 0:\n",
    "    r = num1%10\n",
    "    #print(r)\n",
    "    sum += r**count\n",
    "    num1 = num1 //10\n",
    "if temp == sum:\n",
    "    print(\"It is narcissictic number\")\n",
    "else:\n",
    "    print(\"It is not a narcissictic number\")    \n",
    " "
   ]
  },
  {
   "cell_type": "code",
   "execution_count": 20,
   "id": "f7603270",
   "metadata": {},
   "outputs": [
    {
     "name": "stdout",
     "output_type": "stream",
     "text": [
      "2  Is Even count\n",
      "2  Is odd count\n"
     ]
    }
   ],
   "source": [
    "\n",
    "num = int(input(\"enter the number:\"))\n",
    "even_count = 0\n",
    "odd_count = 0\n",
    "while num != 0:\n",
    "    r = num%10\n",
    "    if(r%2==0):\n",
    "        even_count +=1\n",
    "    else:\n",
    "        odd_count +=1\n",
    "    num = num//10\n",
    "print(even_count,\" Is Even count\") \n",
    "print(odd_count,\" Is odd count\")           "
   ]
  },
  {
   "cell_type": "code",
   "execution_count": 27,
   "id": "633cef4b",
   "metadata": {},
   "outputs": [
    {
     "name": "stdout",
     "output_type": "stream",
     "text": [
      "It is not a prime number\n"
     ]
    }
   ],
   "source": [
    "#check prime number \n",
    "num = int(input())\n",
    "i = 1\n",
    "fact = 0\n",
    "while i<=num:\n",
    "    if(num%i==0):\n",
    "        fact+=1\n",
    "        if fact > 2:\n",
    "            print(\"It is not a prime number\")\n",
    "            break\n",
    "    i+=1\n",
    "if fact ==2:    \n",
    "    print(\"It is a prime number\")\n",
    "\n",
    "          "
   ]
  },
  {
   "cell_type": "code",
   "execution_count": 38,
   "id": "e48f706d",
   "metadata": {},
   "outputs": [
    {
     "name": "stdout",
     "output_type": "stream",
     "text": [
      "24\n"
     ]
    }
   ],
   "source": [
    "#find lcm of two numbers\n",
    "num1 = int(input(\"Enter 1st number\"))\n",
    "num2 = int(input(\"Enter 2nd number\"))\n",
    "lcm = num1*num2\n",
    "if num1 >num2:\n",
    "    temp = num1\n",
    "else:\n",
    "    temp = num2\n",
    "temp +=1    \n",
    "while temp < lcm:\n",
    "    if (temp%num1 ==0 and temp%num2==0):\n",
    "        lcm = temp\n",
    "        break\n",
    "    temp+=1\n",
    "print(lcm)                    "
   ]
  },
  {
   "cell_type": "code",
   "execution_count": 46,
   "id": "bf33a60e",
   "metadata": {},
   "outputs": [
    {
     "name": "stdout",
     "output_type": "stream",
     "text": [
      "4\n"
     ]
    }
   ],
   "source": [
    "#find the HCF of two numbers\n",
    "num1 = int(input())\n",
    "num2 = int(input())\n",
    "hcf = 1\n",
    "temp = min(num1,num2)\n",
    "i = 2\n",
    "while i< temp:\n",
    "    if num1%i ==0 and num2%i ==0:\n",
    "        hcf = max(hcf,i)\n",
    "    i+=1    \n",
    "print(hcf)       "
   ]
  },
  {
   "cell_type": "code",
   "execution_count": 48,
   "id": "45393b87",
   "metadata": {},
   "outputs": [
    {
     "name": "stdout",
     "output_type": "stream",
     "text": [
      "4\n"
     ]
    }
   ],
   "source": [
    "#find hcf 2.O\n",
    "num1 = int(input())\n",
    "num2 = int(input())\n",
    "i = num1\n",
    "while i>=1:\n",
    "    if num1%i ==0 and num2%i==0:\n",
    "        print(i)\n",
    "        break\n",
    "    i-=1"
   ]
  },
  {
   "cell_type": "code",
   "execution_count": 49,
   "id": "61dafe1e",
   "metadata": {},
   "outputs": [
    {
     "name": "stdout",
     "output_type": "stream",
     "text": [
      "1 3 5 7 9 11 13 15 17 19 "
     ]
    }
   ],
   "source": [
    "for i in range(1,21,2):\n",
    "    print(i,end = \" \")"
   ]
  },
  {
   "cell_type": "code",
   "execution_count": 52,
   "id": "b73f1887",
   "metadata": {},
   "outputs": [
    {
     "name": "stdout",
     "output_type": "stream",
     "text": [
      "Odd sum 100\n",
      "Even Sum 110\n"
     ]
    }
   ],
   "source": [
    "odd_sum = 0\n",
    "even_sum = 0\n",
    "for i in range(1,21):\n",
    "    if i%2==0:\n",
    "        even_sum +=i\n",
    "    else:\n",
    "        odd_sum +=i\n",
    "print(\"Odd sum\",odd_sum)\n",
    "print(\"Even Sum\",even_sum)            "
   ]
  },
  {
   "cell_type": "code",
   "execution_count": 56,
   "id": "36b44fb5",
   "metadata": {},
   "outputs": [
    {
     "name": "stdout",
     "output_type": "stream",
     "text": [
      "1 3 "
     ]
    }
   ],
   "source": [
    "num = int(input(\"Enter the number\"))\n",
    "for i in range(1,num):\n",
    "    if num%i ==0:\n",
    "        print(i,end=\" \")\n"
   ]
  },
  {
   "cell_type": "code",
   "execution_count": 5,
   "id": "f48f13a3",
   "metadata": {},
   "outputs": [
    {
     "name": "stdout",
     "output_type": "stream",
     "text": [
      "1\n",
      "2\n",
      "Fizz\n",
      "4\n",
      "Buzz\n",
      "Fizz\n",
      "7\n",
      "8\n",
      "Fizz\n",
      "Buzz\n",
      "11\n",
      "Fizz\n",
      "13\n",
      "14\n",
      "FizzBuzz\n",
      "16\n",
      "17\n",
      "Fizz\n",
      "19\n"
     ]
    }
   ],
   "source": [
    "#num = int(input(\"Enter the number\"))\n",
    "for i in range(1,20):\n",
    "    if i%3==0 and i%5==0:\n",
    "        print(\"FizzBuzz\")\n",
    "    elif i%3==0:\n",
    "        print(\"Fizz\")\n",
    "    elif i%5==0:\n",
    "        print(\"Buzz\")\n",
    "    else:\n",
    "        print(i)    \n",
    "    \n",
    "       "
   ]
  },
  {
   "cell_type": "code",
   "execution_count": 8,
   "id": "aec08a13",
   "metadata": {},
   "outputs": [
    {
     "name": "stdout",
     "output_type": "stream",
     "text": [
      "21\n"
     ]
    }
   ],
   "source": [
    "num1 =int(input(\"Enter 1st num\"))\n",
    "num2 = int(input(\"Enter 2nd num\"))\n",
    "lcm1 = num1*num2\n",
    "result = 0\n",
    "temp = max(num1,num2)\n",
    "for i in range(temp,lcm1):\n",
    "    if i%num1==0 and i%num2==0:\n",
    "        if i<lcm1:\n",
    "            lcm1 = i\n",
    "\n",
    "print(lcm1)            \n",
    "\n"
   ]
  },
  {
   "cell_type": "code",
   "execution_count": null,
   "id": "f53b39b5",
   "metadata": {},
   "outputs": [
    {
     "name": "stdout",
     "output_type": "stream",
     "text": [
      "3 is odd product\n",
      "12 is even product\n"
     ]
    }
   ],
   "source": [
    "# product of even and odd factors of a number \n",
    "\n",
    "num1 =int(input(\"Enter the num\"))\n",
    "odd_product = 1\n",
    "even_product = 1\n",
    "for i in range(1,num1+1):\n",
    "    if num1%i==0:\n",
    "        if i%2==0:even_product *= i\n",
    "        else: odd_product*=i\n",
    "\n",
    "print(odd_product,\"is odd product\")\n",
    "print(even_product,\"is even product\")    \n",
    "\n"
   ]
  },
  {
   "cell_type": "code",
   "execution_count": null,
   "id": "693674f8",
   "metadata": {},
   "outputs": [],
   "source": []
  }
 ],
 "metadata": {
  "kernelspec": {
   "display_name": "Python 3",
   "language": "python",
   "name": "python3"
  },
  "language_info": {
   "codemirror_mode": {
    "name": "ipython",
    "version": 3
   },
   "file_extension": ".py",
   "mimetype": "text/x-python",
   "name": "python",
   "nbconvert_exporter": "python",
   "pygments_lexer": "ipython3",
   "version": "3.13.5"
  }
 },
 "nbformat": 4,
 "nbformat_minor": 5
}
