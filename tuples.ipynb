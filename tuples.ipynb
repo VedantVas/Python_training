{
 "cells": [
  {
   "cell_type": "markdown",
   "id": "096c86f4",
   "metadata": {},
   "source": [
    "Tuple \n"
   ]
  },
  {
   "cell_type": "code",
   "execution_count": 1,
   "id": "7368a397",
   "metadata": {},
   "outputs": [
    {
     "name": "stdout",
     "output_type": "stream",
     "text": [
      "() () (1, 2, 3, 'raju', 2.3, True)\n"
     ]
    }
   ],
   "source": [
    "tpl = ()\n",
    "tpl1 = tuple()\n",
    "tpl2 = (1,2,3,\"raju\",2.3,True)\n",
    "print(tpl,tpl1,tpl2)"
   ]
  },
  {
   "cell_type": "code",
   "execution_count": 2,
   "id": "7912b5f1",
   "metadata": {},
   "outputs": [
    {
     "name": "stdout",
     "output_type": "stream",
     "text": [
      "<class 'int'>\n"
     ]
    }
   ],
   "source": [
    "tpl = (5)\n",
    "print(type(tpl))"
   ]
  },
  {
   "cell_type": "code",
   "execution_count": 4,
   "id": "0e79930a",
   "metadata": {},
   "outputs": [
    {
     "name": "stdout",
     "output_type": "stream",
     "text": [
      "<class 'tuple'>\n",
      "<class 'tuple'>\n"
     ]
    }
   ],
   "source": [
    "tpl = 5,\n",
    "tpl1 = (5,)\n",
    "print(type(tpl))\n",
    "print(type(tpl1))"
   ]
  },
  {
   "cell_type": "code",
   "execution_count": 5,
   "id": "b4e8682d",
   "metadata": {},
   "outputs": [
    {
     "name": "stdout",
     "output_type": "stream",
     "text": [
      "2\n"
     ]
    }
   ],
   "source": [
    "tappu = (1,2,3,4,45,5)\n",
    "print(tappu[1])"
   ]
  },
  {
   "cell_type": "code",
   "execution_count": 6,
   "id": "7b040295",
   "metadata": {},
   "outputs": [
    {
     "ename": "TypeError",
     "evalue": "'tuple' object does not support item assignment",
     "output_type": "error",
     "traceback": [
      "\u001b[31m---------------------------------------------------------------------------\u001b[39m",
      "\u001b[31mTypeError\u001b[39m                                 Traceback (most recent call last)",
      "\u001b[36mCell\u001b[39m\u001b[36m \u001b[39m\u001b[32mIn[6]\u001b[39m\u001b[32m, line 2\u001b[39m\n\u001b[32m      1\u001b[39m taplu = (\u001b[32m1\u001b[39m,\u001b[32m3\u001b[39m,\u001b[32m2\u001b[39m,\u001b[32m4\u001b[39m,\u001b[32m2\u001b[39m)\n\u001b[32m----> \u001b[39m\u001b[32m2\u001b[39m \u001b[43mtaplu\u001b[49m\u001b[43m[\u001b[49m\u001b[32;43m2\u001b[39;49m\u001b[43m]\u001b[49m=\u001b[32m3\u001b[39m\n",
      "\u001b[31mTypeError\u001b[39m: 'tuple' object does not support item assignment"
     ]
    }
   ],
   "source": [
    "taplu = (1,3,2,4,2)\n",
    "taplu[2]=3"
   ]
  },
  {
   "cell_type": "code",
   "execution_count": 7,
   "id": "7553c934",
   "metadata": {},
   "outputs": [
    {
     "ename": "NameError",
     "evalue": "name 'tpl' is not defined",
     "output_type": "error",
     "traceback": [
      "\u001b[31m---------------------------------------------------------------------------\u001b[39m",
      "\u001b[31mNameError\u001b[39m                                 Traceback (most recent call last)",
      "\u001b[36mCell\u001b[39m\u001b[36m \u001b[39m\u001b[32mIn[7]\u001b[39m\u001b[32m, line 2\u001b[39m\n\u001b[32m      1\u001b[39m \u001b[38;5;28;01mdel\u001b[39;00m tpl\n\u001b[32m----> \u001b[39m\u001b[32m2\u001b[39m \u001b[38;5;28mprint\u001b[39m(\u001b[43mtpl\u001b[49m)\n",
      "\u001b[31mNameError\u001b[39m: name 'tpl' is not defined"
     ]
    }
   ],
   "source": [
    "del tpl\n",
    "print(tpl)"
   ]
  },
  {
   "cell_type": "code",
   "execution_count": 8,
   "id": "da9ceaf7",
   "metadata": {},
   "outputs": [
    {
     "ename": "NameError",
     "evalue": "name 'tpl' is not defined",
     "output_type": "error",
     "traceback": [
      "\u001b[31m---------------------------------------------------------------------------\u001b[39m",
      "\u001b[31mNameError\u001b[39m                                 Traceback (most recent call last)",
      "\u001b[36mCell\u001b[39m\u001b[36m \u001b[39m\u001b[32mIn[8]\u001b[39m\u001b[32m, line 1\u001b[39m\n\u001b[32m----> \u001b[39m\u001b[32m1\u001b[39m \u001b[38;5;28;01mdel\u001b[39;00m \u001b[43mtpl\u001b[49m\n\u001b[32m      2\u001b[39m \u001b[38;5;28mprint\u001b[39m(tpl)\n",
      "\u001b[31mNameError\u001b[39m: name 'tpl' is not defined"
     ]
    }
   ],
   "source": [
    "del tpl\n",
    "print(tpl)"
   ]
  },
  {
   "cell_type": "code",
   "execution_count": null,
   "id": "4ae3f2fd",
   "metadata": {},
   "outputs": [
    {
     "name": "stdout",
     "output_type": "stream",
     "text": [
      "(1, 2, 3, 4, 5, 6, 7, 8)\n"
     ]
    }
   ],
   "source": [
    "tpl = (1,2,3,4,5)\n",
    "tpl+= (6,7,8)#creates a new tuple at different address\n",
    "print(tpl)"
   ]
  },
  {
   "cell_type": "code",
   "execution_count": null,
   "id": "4b260c3f",
   "metadata": {},
   "outputs": [
    {
     "name": "stdout",
     "output_type": "stream",
     "text": [
      "1370477109520\n",
      "1370475356736\n",
      "(1, 2, 3, 4, 5, 6, 7, 8)\n"
     ]
    }
   ],
   "source": [
    "tpl = (1,2,3,4,5)\n",
    "print(id(tpl))#different address\n",
    "tpl+= (6,7,8)\n",
    "print(id(tpl))#different address\n",
    "print(tpl)"
   ]
  },
  {
   "cell_type": "code",
   "execution_count": 11,
   "id": "cf58b4af",
   "metadata": {},
   "outputs": [
    {
     "name": "stdout",
     "output_type": "stream",
     "text": [
      "['__add__', '__class__', '__class_getitem__', '__contains__', '__delattr__', '__dir__', '__doc__', '__eq__', '__format__', '__ge__', '__getattribute__', '__getitem__', '__getnewargs__', '__getstate__', '__gt__', '__hash__', '__init__', '__init_subclass__', '__iter__', '__le__', '__len__', '__lt__', '__mul__', '__ne__', '__new__', '__reduce__', '__reduce_ex__', '__repr__', '__rmul__', '__setattr__', '__sizeof__', '__str__', '__subclasshook__', 'count', 'index']\n"
     ]
    }
   ],
   "source": [
    "print(dir(tpl))"
   ]
  },
  {
   "cell_type": "code",
   "execution_count": 14,
   "id": "1b5f825a",
   "metadata": {},
   "outputs": [
    {
     "name": "stdout",
     "output_type": "stream",
     "text": [
      "4\n"
     ]
    }
   ],
   "source": [
    "taplu = (1,1,2,3,4,2,1,3,1)\n",
    "print(taplu.count(1))"
   ]
  },
  {
   "cell_type": "code",
   "execution_count": 15,
   "id": "6a0548c8",
   "metadata": {},
   "outputs": [
    {
     "name": "stdout",
     "output_type": "stream",
     "text": [
      "<class 'list'>\n"
     ]
    }
   ],
   "source": [
    "taplu=list(taplu)\n",
    "print(type(taplu))"
   ]
  },
  {
   "cell_type": "code",
   "execution_count": null,
   "id": "a0c424b2",
   "metadata": {},
   "outputs": [],
   "source": []
  }
 ],
 "metadata": {
  "kernelspec": {
   "display_name": "Python 3",
   "language": "python",
   "name": "python3"
  },
  "language_info": {
   "codemirror_mode": {
    "name": "ipython",
    "version": 3
   },
   "file_extension": ".py",
   "mimetype": "text/x-python",
   "name": "python",
   "nbconvert_exporter": "python",
   "pygments_lexer": "ipython3",
   "version": "3.13.5"
  }
 },
 "nbformat": 4,
 "nbformat_minor": 5
}
