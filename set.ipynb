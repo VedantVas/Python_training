{
 "cells": [
  {
   "cell_type": "code",
   "execution_count": null,
   "id": "b0d775e4",
   "metadata": {},
   "outputs": [],
   "source": [
    "#set is mutable\n",
    "# but set stores only immutable values\n",
    "#set is unorderable\n",
    "#set stores unique element only\n",
    "# set is initialized using \"{}\", curly brackets\n",
    "# we cannot store a set inside a set because set is mutable, or see point 2 above\n",
    "# set is used to perfrom mathematical operations like union, intersection and difference etc"
   ]
  },
  {
   "cell_type": "code",
   "execution_count": null,
   "id": "d4209b6f",
   "metadata": {},
   "outputs": [
    {
     "name": "stdout",
     "output_type": "stream",
     "text": [
      "<class 'dict'>\n",
      "{1, 2, 3, 4, 2.3, 'hello'}\n"
     ]
    }
   ],
   "source": [
    "st = {}#creates empty dictionary \n",
    "print(type(st))\n",
    "st = set()\n",
    "st = {\"hello\",1,2,3,4,2.3}\n",
    "print(st)"
   ]
  },
  {
   "cell_type": "code",
   "execution_count": 4,
   "id": "99bd21e2",
   "metadata": {},
   "outputs": [
    {
     "name": "stdout",
     "output_type": "stream",
     "text": [
      "{1, 2, 3, 4}\n",
      "<class 'set'>\n"
     ]
    }
   ],
   "source": [
    "st = set([1,2,3,3,4,3,4])\n",
    "print(st)\n",
    "print(type(st))"
   ]
  },
  {
   "cell_type": "code",
   "execution_count": null,
   "id": "758e2e1a",
   "metadata": {},
   "outputs": [
    {
     "name": "stdout",
     "output_type": "stream",
     "text": [
      "{1, 2, 3}\n"
     ]
    }
   ],
   "source": [
    "st = {1,2}\n",
    "st.add(3)\n",
    "print(st)\n",
    "#will give error in this \n",
    "st.add([1,2,3])# as list is mutable"
   ]
  },
  {
   "cell_type": "code",
   "execution_count": 7,
   "id": "35897a87",
   "metadata": {},
   "outputs": [
    {
     "name": "stdout",
     "output_type": "stream",
     "text": [
      "{1, 2, 3}\n"
     ]
    }
   ],
   "source": [
    "st = {1,2}\n",
    "st.update([1,2,3])#will not give any error\n",
    "print(st)"
   ]
  },
  {
   "cell_type": "code",
   "execution_count": null,
   "id": "a04411ae",
   "metadata": {},
   "outputs": [
    {
     "name": "stdout",
     "output_type": "stream",
     "text": [
      "{1, 3, 4, 5}\n"
     ]
    }
   ],
   "source": [
    "# remove() removes element from the set and gives error when element is not present\n",
    "st = {1,2,3,4,5}\n",
    "st.remove(2)\n",
    "print(st)# output = {1,3,4,5}\n",
    "st.remove(2)# will give error as 2 is no longer in set"
   ]
  },
  {
   "cell_type": "code",
   "execution_count": null,
   "id": "df19e4d0",
   "metadata": {},
   "outputs": [
    {
     "name": "stdout",
     "output_type": "stream",
     "text": [
      "{1, 2, 3, 4}\n"
     ]
    }
   ],
   "source": [
    "# discard( ) removes element and does not gives error when element is not present\n",
    "st = {1,2,3,4}\n",
    "st.discard(5)\n",
    "print(st)#no error"
   ]
  },
  {
   "cell_type": "code",
   "execution_count": 11,
   "id": "bec8d84d",
   "metadata": {},
   "outputs": [
    {
     "name": "stdout",
     "output_type": "stream",
     "text": [
      "{1, 2, 3, 4, 5}\n",
      "1\n",
      "{2, 3, 4, 5}\n"
     ]
    }
   ],
   "source": [
    "#we can remove element using pop()\n",
    "st = {1,2,3,4,5}\n",
    "print(st)\n",
    "\n",
    "a = st.pop()#removes a random element\n",
    "print(a)#we can store that popped element\n",
    "print(st)"
   ]
  },
  {
   "cell_type": "code",
   "execution_count": null,
   "id": "ba8a7951",
   "metadata": {},
   "outputs": [
    {
     "name": "stdout",
     "output_type": "stream",
     "text": [
      "{1, 2, 3, 4, 5, 6}\n",
      "set()\n"
     ]
    }
   ],
   "source": [
    "s = {1,2,3,4,5,6}\n",
    "print(s)\n",
    "\n",
    "s.clear()#removes all element from the set \n",
    "print(s)# gives empty set,-> set()"
   ]
  },
  {
   "cell_type": "code",
   "execution_count": null,
   "id": "09b76462",
   "metadata": {},
   "outputs": [],
   "source": [
    "s = {1,2,3,4,5,6}\n",
    "del st#this will delete whole set from the memory\n",
    "print(st)"
   ]
  },
  {
   "cell_type": "code",
   "execution_count": 14,
   "id": "52ee37f4",
   "metadata": {},
   "outputs": [
    {
     "name": "stdout",
     "output_type": "stream",
     "text": [
      "unique elements are 3\n"
     ]
    }
   ],
   "source": [
    "#WAP to take a string as an input from user and count number of unique character from string\n",
    "str1 = input(\"Enter the string\")\n",
    "st = set()\n",
    "for char in str1:\n",
    "    st.add(char)\n",
    "\n",
    "print(\"unique elements are\",len(st))    "
   ]
  },
  {
   "cell_type": "code",
   "execution_count": 18,
   "id": "dac9d8ed",
   "metadata": {},
   "outputs": [
    {
     "name": "stdout",
     "output_type": "stream",
     "text": [
      "{ ' a m ' ,   ' t h e ' ,   ' w a s ' ,   ' a t ' ,   ' i ' ,   ' w h e n ' }\n",
      "77\n"
     ]
    }
   ],
   "source": [
    "str1 = input(\"Enter string\")\n",
    "lst = str1.split()\n",
    "lst = set(lst)\n",
    "lst = str(lst)\n",
    "lst = \" \".join(lst)\n",
    "print(lst)\n",
    "print(len(lst))"
   ]
  },
  {
   "cell_type": "code",
   "execution_count": null,
   "id": "b9062219",
   "metadata": {},
   "outputs": [
    {
     "name": "stdout",
     "output_type": "stream",
     "text": [
      "i am just the as huts \n"
     ]
    }
   ],
   "source": [
    "str1 = input(\"Enter your string\")\n",
    "print(str1)\n",
    "result = \"\"\n",
    "lst = str1.split(\" \")\n",
    "for i in lst:\n",
    "    i = str(i)\n",
    "    if i not in result:\n",
    "        result+=i+\" \"\n",
    "\n",
    "print(result)        "
   ]
  },
  {
   "cell_type": "code",
   "execution_count": 21,
   "id": "14be6283",
   "metadata": {},
   "outputs": [
    {
     "name": "stdout",
     "output_type": "stream",
     "text": [
      "the at one was\n"
     ]
    }
   ],
   "source": [
    "str1 = input(\"Enter your string\")\n",
    "lst = str1.split()\n",
    "lst = list(set(lst))\n",
    "str1  = \" \".join(lst)\n",
    "print(str1)"
   ]
  },
  {
   "cell_type": "code",
   "execution_count": 23,
   "id": "d2769650",
   "metadata": {},
   "outputs": [
    {
     "name": "stdout",
     "output_type": "stream",
     "text": [
      "the was at the one when two the at three\n",
      "the was at one when two three \n"
     ]
    }
   ],
   "source": [
    "str1 = input(\"enter the string\")\n",
    "print(str1)\n",
    "result = \"\"\n",
    "lst = str1.split()\n",
    "for i in lst:\n",
    "    #i = str(i)\n",
    "    if i not in result:\n",
    "        result+=i+\" \"\n",
    "print(result)        "
   ]
  },
  {
   "cell_type": "code",
   "execution_count": null,
   "id": "bde91be1",
   "metadata": {},
   "outputs": [
    {
     "data": {
      "text/plain": [
       "{1, 2, 3, 4, 5, 7, 8, 9}"
      ]
     },
     "execution_count": 10,
     "metadata": {},
     "output_type": "execute_result"
    }
   ],
   "source": [
    "st = {1,3,5,7,9}\n",
    "st1 = {2,8,4,5,7,9}\n",
    "st.union(st1)#prints combined elements of both sets or union elements \n",
    "# can be done using \n",
    "print(st|st1)"
   ]
  },
  {
   "cell_type": "code",
   "execution_count": 11,
   "id": "17c9467f",
   "metadata": {},
   "outputs": [
    {
     "name": "stdout",
     "output_type": "stream",
     "text": [
      "{9, 5, 7}\n"
     ]
    }
   ],
   "source": [
    "st.intersection(st1)# prints common elements of both the sets or intersection elements\n",
    "#can be done using \n",
    "print(st & st1)\n"
   ]
  },
  {
   "cell_type": "code",
   "execution_count": null,
   "id": "3ef2bfe8",
   "metadata": {},
   "outputs": [
    {
     "data": {
      "text/plain": [
       "{1, 3}"
      ]
     },
     "execution_count": 3,
     "metadata": {},
     "output_type": "execute_result"
    }
   ],
   "source": [
    "st.difference(st1)#prints elements not present in st1 set called difference\n",
    "print(st - st1)# saame output by using operators"
   ]
  },
  {
   "cell_type": "code",
   "execution_count": null,
   "id": "6f080259",
   "metadata": {},
   "outputs": [
    {
     "data": {
      "text/plain": [
       "{2, 4, 8}"
      ]
     },
     "execution_count": 4,
     "metadata": {},
     "output_type": "execute_result"
    }
   ],
   "source": [
    "st1.difference(st)#prints elements not present in st set\n",
    "print(st1 - st)# same output"
   ]
  },
  {
   "cell_type": "code",
   "execution_count": null,
   "id": "acf10e24",
   "metadata": {},
   "outputs": [
    {
     "data": {
      "text/plain": [
       "{1, 2, 3, 4, 8}"
      ]
     },
     "execution_count": 5,
     "metadata": {},
     "output_type": "execute_result"
    }
   ],
   "source": [
    "#symmetric difference\n",
    "st.symmetric_difference(st1)#prints elements like union of two sets - intersection of that two sets\n",
    "#like {1, 2, 3, 4, 5, 7, 8, 9} - {5, 7, 9} = {1, 2, 3, 4, 8}\n",
    "# or do this \n",
    "print(st^st1)#using XOR operator"
   ]
  },
  {
   "cell_type": "code",
   "execution_count": null,
   "id": "fe3bd73f",
   "metadata": {},
   "outputs": [
    {
     "data": {
      "text/plain": [
       "{1, 2, 3, 4, 8}"
      ]
     },
     "execution_count": 6,
     "metadata": {},
     "output_type": "execute_result"
    }
   ],
   "source": [
    "st1.symmetric_difference(st)#there will be no difference in the output"
   ]
  },
  {
   "cell_type": "code",
   "execution_count": 15,
   "id": "3f3ef4cd",
   "metadata": {},
   "outputs": [
    {
     "name": "stdout",
     "output_type": "stream",
     "text": [
      "frozenset({1, 2, 3, 4})\n",
      "frozenset({3, 4, 5, 6})\n"
     ]
    }
   ],
   "source": [
    "# we can also make our set immutable which is called frozenset\n",
    "set1 = frozenset((1,2,3,4))\n",
    "set2 = frozenset([3,4,5,6])\n",
    "# here we cannot perform any operation on it after initialization \n",
    "# and all other operation remains same like union and intersection\n",
    "print(set1)\n",
    "print(set2)"
   ]
  },
  {
   "cell_type": "code",
   "execution_count": null,
   "id": "b1b4757a",
   "metadata": {},
   "outputs": [
    {
     "ename": "TypeError",
     "evalue": "'frozenset' object is not subscriptable",
     "output_type": "error",
     "traceback": [
      "\u001b[31m---------------------------------------------------------------------------\u001b[39m",
      "\u001b[31mTypeError\u001b[39m                                 Traceback (most recent call last)",
      "\u001b[36mCell\u001b[39m\u001b[36m \u001b[39m\u001b[32mIn[14]\u001b[39m\u001b[32m, line 1\u001b[39m\n\u001b[32m----> \u001b[39m\u001b[32m1\u001b[39m \u001b[38;5;28mprint\u001b[39m(\u001b[43mset1\u001b[49m\u001b[43m[\u001b[49m\u001b[32;43m1\u001b[39;49m\u001b[43m]\u001b[49m)\u001b[38;5;66;03m#will give error\u001b[39;00m\n",
      "\u001b[31mTypeError\u001b[39m: 'frozenset' object is not subscriptable"
     ]
    }
   ],
   "source": [
    "print(set1[1])# it will give error"
   ]
  },
  {
   "cell_type": "code",
   "execution_count": null,
   "id": "e5dfaf94",
   "metadata": {},
   "outputs": [
    {
     "data": {
      "text/plain": [
       "frozenset({1, 2, 3, 4, 5, 6})"
      ]
     },
     "execution_count": 16,
     "metadata": {},
     "output_type": "execute_result"
    }
   ],
   "source": [
    "set1.union(set2)# notice that in every output it will print frozenset.. telling about it's identity\n"
   ]
  },
  {
   "cell_type": "code",
   "execution_count": null,
   "id": "4ff29419",
   "metadata": {},
   "outputs": [],
   "source": []
  }
 ],
 "metadata": {
  "kernelspec": {
   "display_name": "Python 3",
   "language": "python",
   "name": "python3"
  },
  "language_info": {
   "codemirror_mode": {
    "name": "ipython",
    "version": 3
   },
   "file_extension": ".py",
   "mimetype": "text/x-python",
   "name": "python",
   "nbconvert_exporter": "python",
   "pygments_lexer": "ipython3",
   "version": "3.13.5"
  }
 },
 "nbformat": 4,
 "nbformat_minor": 5
}
