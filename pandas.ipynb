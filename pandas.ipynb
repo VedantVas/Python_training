{
 "cells": [
  {
   "cell_type": "code",
   "execution_count": 4,
   "id": "97677ac6",
   "metadata": {},
   "outputs": [
    {
     "name": "stdout",
     "output_type": "stream",
     "text": [
      "Defaulting to user installation because normal site-packages is not writeable\n",
      "Collecting pandas\n",
      "  Using cached pandas-2.3.1-cp313-cp313-win_amd64.whl.metadata (19 kB)\n",
      "Requirement already satisfied: numpy>=1.26.0 in c:\\users\\vedant\\appdata\\roaming\\python\\python313\\site-packages (from pandas) (2.3.1)\n",
      "Requirement already satisfied: python-dateutil>=2.8.2 in c:\\users\\vedant\\appdata\\roaming\\python\\python313\\site-packages (from pandas) (2.9.0.post0)\n",
      "Collecting pytz>=2020.1 (from pandas)\n",
      "  Using cached pytz-2025.2-py2.py3-none-any.whl.metadata (22 kB)\n",
      "Collecting tzdata>=2022.7 (from pandas)\n",
      "  Using cached tzdata-2025.2-py2.py3-none-any.whl.metadata (1.4 kB)\n",
      "Requirement already satisfied: six>=1.5 in c:\\users\\vedant\\appdata\\roaming\\python\\python313\\site-packages (from python-dateutil>=2.8.2->pandas) (1.17.0)\n",
      "Downloading pandas-2.3.1-cp313-cp313-win_amd64.whl (11.0 MB)\n",
      "   ---------------------------------------- 0.0/11.0 MB ? eta -:--:--\n",
      "   - -------------------------------------- 0.5/11.0 MB 3.5 MB/s eta 0:00:04\n",
      "   ------ --------------------------------- 1.8/11.0 MB 5.9 MB/s eta 0:00:02\n",
      "   ------------ --------------------------- 3.4/11.0 MB 6.5 MB/s eta 0:00:02\n",
      "   -------------------- ------------------- 5.5/11.0 MB 7.3 MB/s eta 0:00:01\n",
      "   ------------------------- -------------- 7.1/11.0 MB 7.6 MB/s eta 0:00:01\n",
      "   ------------------------------------ --- 10.0/11.0 MB 8.6 MB/s eta 0:00:01\n",
      "   ---------------------------------------- 11.0/11.0 MB 8.7 MB/s eta 0:00:00\n",
      "Downloading pytz-2025.2-py2.py3-none-any.whl (509 kB)\n",
      "Downloading tzdata-2025.2-py2.py3-none-any.whl (347 kB)\n",
      "Installing collected packages: pytz, tzdata, pandas\n",
      "\n",
      "   ---------------------------------------- 0/3 [pytz]\n",
      "   ---------------------------------------- 0/3 [pytz]\n",
      "   ---------------------------------------- 0/3 [pytz]\n",
      "   ------------- -------------------------- 1/3 [tzdata]\n",
      "   ------------- -------------------------- 1/3 [tzdata]\n",
      "   ------------- -------------------------- 1/3 [tzdata]\n",
      "   -------------------------- ------------- 2/3 [pandas]\n",
      "   -------------------------- ------------- 2/3 [pandas]\n",
      "   -------------------------- ------------- 2/3 [pandas]\n",
      "   -------------------------- ------------- 2/3 [pandas]\n",
      "   -------------------------- ------------- 2/3 [pandas]\n",
      "   -------------------------- ------------- 2/3 [pandas]\n",
      "   -------------------------- ------------- 2/3 [pandas]\n",
      "   -------------------------- ------------- 2/3 [pandas]\n",
      "   -------------------------- ------------- 2/3 [pandas]\n",
      "   -------------------------- ------------- 2/3 [pandas]\n",
      "   -------------------------- ------------- 2/3 [pandas]\n",
      "   -------------------------- ------------- 2/3 [pandas]\n",
      "   -------------------------- ------------- 2/3 [pandas]\n",
      "   -------------------------- ------------- 2/3 [pandas]\n",
      "   -------------------------- ------------- 2/3 [pandas]\n",
      "   -------------------------- ------------- 2/3 [pandas]\n",
      "   -------------------------- ------------- 2/3 [pandas]\n",
      "   -------------------------- ------------- 2/3 [pandas]\n",
      "   -------------------------- ------------- 2/3 [pandas]\n",
      "   -------------------------- ------------- 2/3 [pandas]\n",
      "   -------------------------- ------------- 2/3 [pandas]\n",
      "   -------------------------- ------------- 2/3 [pandas]\n",
      "   -------------------------- ------------- 2/3 [pandas]\n",
      "   -------------------------- ------------- 2/3 [pandas]\n",
      "   -------------------------- ------------- 2/3 [pandas]\n",
      "   -------------------------- ------------- 2/3 [pandas]\n",
      "   -------------------------- ------------- 2/3 [pandas]\n",
      "   -------------------------- ------------- 2/3 [pandas]\n",
      "   -------------------------- ------------- 2/3 [pandas]\n",
      "   -------------------------- ------------- 2/3 [pandas]\n",
      "   -------------------------- ------------- 2/3 [pandas]\n",
      "   -------------------------- ------------- 2/3 [pandas]\n",
      "   -------------------------- ------------- 2/3 [pandas]\n",
      "   -------------------------- ------------- 2/3 [pandas]\n",
      "   -------------------------- ------------- 2/3 [pandas]\n",
      "   -------------------------- ------------- 2/3 [pandas]\n",
      "   -------------------------- ------------- 2/3 [pandas]\n",
      "   -------------------------- ------------- 2/3 [pandas]\n",
      "   -------------------------- ------------- 2/3 [pandas]\n",
      "   -------------------------- ------------- 2/3 [pandas]\n",
      "   -------------------------- ------------- 2/3 [pandas]\n",
      "   -------------------------- ------------- 2/3 [pandas]\n",
      "   -------------------------- ------------- 2/3 [pandas]\n",
      "   -------------------------- ------------- 2/3 [pandas]\n",
      "   -------------------------- ------------- 2/3 [pandas]\n",
      "   -------------------------- ------------- 2/3 [pandas]\n",
      "   -------------------------- ------------- 2/3 [pandas]\n",
      "   -------------------------- ------------- 2/3 [pandas]\n",
      "   -------------------------- ------------- 2/3 [pandas]\n",
      "   -------------------------- ------------- 2/3 [pandas]\n",
      "   -------------------------- ------------- 2/3 [pandas]\n",
      "   -------------------------- ------------- 2/3 [pandas]\n",
      "   -------------------------- ------------- 2/3 [pandas]\n",
      "   -------------------------- ------------- 2/3 [pandas]\n",
      "   -------------------------- ------------- 2/3 [pandas]\n",
      "   -------------------------- ------------- 2/3 [pandas]\n",
      "   -------------------------- ------------- 2/3 [pandas]\n",
      "   -------------------------- ------------- 2/3 [pandas]\n",
      "   -------------------------- ------------- 2/3 [pandas]\n",
      "   -------------------------- ------------- 2/3 [pandas]\n",
      "   -------------------------- ------------- 2/3 [pandas]\n",
      "   -------------------------- ------------- 2/3 [pandas]\n",
      "   -------------------------- ------------- 2/3 [pandas]\n",
      "   -------------------------- ------------- 2/3 [pandas]\n",
      "   -------------------------- ------------- 2/3 [pandas]\n",
      "   -------------------------- ------------- 2/3 [pandas]\n",
      "   -------------------------- ------------- 2/3 [pandas]\n",
      "   -------------------------- ------------- 2/3 [pandas]\n",
      "   -------------------------- ------------- 2/3 [pandas]\n",
      "   -------------------------- ------------- 2/3 [pandas]\n",
      "   -------------------------- ------------- 2/3 [pandas]\n",
      "   -------------------------- ------------- 2/3 [pandas]\n",
      "   -------------------------- ------------- 2/3 [pandas]\n",
      "   -------------------------- ------------- 2/3 [pandas]\n",
      "   -------------------------- ------------- 2/3 [pandas]\n",
      "   -------------------------- ------------- 2/3 [pandas]\n",
      "   -------------------------- ------------- 2/3 [pandas]\n",
      "   -------------------------- ------------- 2/3 [pandas]\n",
      "   -------------------------- ------------- 2/3 [pandas]\n",
      "   -------------------------- ------------- 2/3 [pandas]\n",
      "   -------------------------- ------------- 2/3 [pandas]\n",
      "   -------------------------- ------------- 2/3 [pandas]\n",
      "   -------------------------- ------------- 2/3 [pandas]\n",
      "   -------------------------- ------------- 2/3 [pandas]\n",
      "   -------------------------- ------------- 2/3 [pandas]\n",
      "   -------------------------- ------------- 2/3 [pandas]\n",
      "   -------------------------- ------------- 2/3 [pandas]\n",
      "   -------------------------- ------------- 2/3 [pandas]\n",
      "   -------------------------- ------------- 2/3 [pandas]\n",
      "   -------------------------- ------------- 2/3 [pandas]\n",
      "   -------------------------- ------------- 2/3 [pandas]\n",
      "   -------------------------- ------------- 2/3 [pandas]\n",
      "   -------------------------- ------------- 2/3 [pandas]\n",
      "   -------------------------- ------------- 2/3 [pandas]\n",
      "   -------------------------- ------------- 2/3 [pandas]\n",
      "   -------------------------- ------------- 2/3 [pandas]\n",
      "   -------------------------- ------------- 2/3 [pandas]\n",
      "   -------------------------- ------------- 2/3 [pandas]\n",
      "   -------------------------- ------------- 2/3 [pandas]\n",
      "   -------------------------- ------------- 2/3 [pandas]\n",
      "   -------------------------- ------------- 2/3 [pandas]\n",
      "   -------------------------- ------------- 2/3 [pandas]\n",
      "   -------------------------- ------------- 2/3 [pandas]\n",
      "   -------------------------- ------------- 2/3 [pandas]\n",
      "   -------------------------- ------------- 2/3 [pandas]\n",
      "   -------------------------- ------------- 2/3 [pandas]\n",
      "   -------------------------- ------------- 2/3 [pandas]\n",
      "   -------------------------- ------------- 2/3 [pandas]\n",
      "   -------------------------- ------------- 2/3 [pandas]\n",
      "   -------------------------- ------------- 2/3 [pandas]\n",
      "   -------------------------- ------------- 2/3 [pandas]\n",
      "   -------------------------- ------------- 2/3 [pandas]\n",
      "   -------------------------- ------------- 2/3 [pandas]\n",
      "   -------------------------- ------------- 2/3 [pandas]\n",
      "   -------------------------- ------------- 2/3 [pandas]\n",
      "   -------------------------- ------------- 2/3 [pandas]\n",
      "   -------------------------- ------------- 2/3 [pandas]\n",
      "   -------------------------- ------------- 2/3 [pandas]\n",
      "   -------------------------- ------------- 2/3 [pandas]\n",
      "   -------------------------- ------------- 2/3 [pandas]\n",
      "   -------------------------- ------------- 2/3 [pandas]\n",
      "   -------------------------- ------------- 2/3 [pandas]\n",
      "   -------------------------- ------------- 2/3 [pandas]\n",
      "   -------------------------- ------------- 2/3 [pandas]\n",
      "   -------------------------- ------------- 2/3 [pandas]\n",
      "   -------------------------- ------------- 2/3 [pandas]\n",
      "   -------------------------- ------------- 2/3 [pandas]\n",
      "   -------------------------- ------------- 2/3 [pandas]\n",
      "   -------------------------- ------------- 2/3 [pandas]\n",
      "   -------------------------- ------------- 2/3 [pandas]\n",
      "   -------------------------- ------------- 2/3 [pandas]\n",
      "   -------------------------- ------------- 2/3 [pandas]\n",
      "   -------------------------- ------------- 2/3 [pandas]\n",
      "   -------------------------- ------------- 2/3 [pandas]\n",
      "   -------------------------- ------------- 2/3 [pandas]\n",
      "   -------------------------- ------------- 2/3 [pandas]\n",
      "   -------------------------- ------------- 2/3 [pandas]\n",
      "   -------------------------- ------------- 2/3 [pandas]\n",
      "   -------------------------- ------------- 2/3 [pandas]\n",
      "   -------------------------- ------------- 2/3 [pandas]\n",
      "   -------------------------- ------------- 2/3 [pandas]\n",
      "   -------------------------- ------------- 2/3 [pandas]\n",
      "   -------------------------- ------------- 2/3 [pandas]\n",
      "   -------------------------- ------------- 2/3 [pandas]\n",
      "   -------------------------- ------------- 2/3 [pandas]\n",
      "   -------------------------- ------------- 2/3 [pandas]\n",
      "   -------------------------- ------------- 2/3 [pandas]\n",
      "   -------------------------- ------------- 2/3 [pandas]\n",
      "   -------------------------- ------------- 2/3 [pandas]\n",
      "   -------------------------- ------------- 2/3 [pandas]\n",
      "   -------------------------- ------------- 2/3 [pandas]\n",
      "   -------------------------- ------------- 2/3 [pandas]\n",
      "   -------------------------- ------------- 2/3 [pandas]\n",
      "   -------------------------- ------------- 2/3 [pandas]\n",
      "   -------------------------- ------------- 2/3 [pandas]\n",
      "   -------------------------- ------------- 2/3 [pandas]\n",
      "   -------------------------- ------------- 2/3 [pandas]\n",
      "   -------------------------- ------------- 2/3 [pandas]\n",
      "   -------------------------- ------------- 2/3 [pandas]\n",
      "   -------------------------- ------------- 2/3 [pandas]\n",
      "   -------------------------- ------------- 2/3 [pandas]\n",
      "   -------------------------- ------------- 2/3 [pandas]\n",
      "   -------------------------- ------------- 2/3 [pandas]\n",
      "   -------------------------- ------------- 2/3 [pandas]\n",
      "   -------------------------- ------------- 2/3 [pandas]\n",
      "   -------------------------- ------------- 2/3 [pandas]\n",
      "   -------------------------- ------------- 2/3 [pandas]\n",
      "   -------------------------- ------------- 2/3 [pandas]\n",
      "   -------------------------- ------------- 2/3 [pandas]\n",
      "   -------------------------- ------------- 2/3 [pandas]\n",
      "   -------------------------- ------------- 2/3 [pandas]\n",
      "   -------------------------- ------------- 2/3 [pandas]\n",
      "   -------------------------- ------------- 2/3 [pandas]\n",
      "   -------------------------- ------------- 2/3 [pandas]\n",
      "   -------------------------- ------------- 2/3 [pandas]\n",
      "   -------------------------- ------------- 2/3 [pandas]\n",
      "   -------------------------- ------------- 2/3 [pandas]\n",
      "   -------------------------- ------------- 2/3 [pandas]\n",
      "   -------------------------- ------------- 2/3 [pandas]\n",
      "   -------------------------- ------------- 2/3 [pandas]\n",
      "   -------------------------- ------------- 2/3 [pandas]\n",
      "   -------------------------- ------------- 2/3 [pandas]\n",
      "   -------------------------- ------------- 2/3 [pandas]\n",
      "   -------------------------- ------------- 2/3 [pandas]\n",
      "   -------------------------- ------------- 2/3 [pandas]\n",
      "   -------------------------- ------------- 2/3 [pandas]\n",
      "   -------------------------- ------------- 2/3 [pandas]\n",
      "   -------------------------- ------------- 2/3 [pandas]\n",
      "   -------------------------- ------------- 2/3 [pandas]\n",
      "   ---------------------------------------- 3/3 [pandas]\n",
      "\n",
      "Successfully installed pandas-2.3.1 pytz-2025.2 tzdata-2025.2\n"
     ]
    }
   ],
   "source": [
    "! pip install pandas"
   ]
  },
  {
   "cell_type": "code",
   "execution_count": 7,
   "id": "7c6e1358",
   "metadata": {},
   "outputs": [],
   "source": [
    "import pandas as pd \n",
    "import numpy as np"
   ]
  },
  {
   "cell_type": "code",
   "execution_count": 9,
   "id": "8ecc7ef7",
   "metadata": {},
   "outputs": [
    {
     "name": "stdout",
     "output_type": "stream",
     "text": [
      "0     2\n",
      "1     3\n",
      "2     4\n",
      "3     6\n",
      "4     3\n",
      "5     5\n",
      "6     7\n",
      "7    76\n",
      "dtype: int64\n",
      "RangeIndex(start=0, stop=8, step=1)\n"
     ]
    }
   ],
   "source": [
    "series1 = pd.Series([2,3,4,6,3,5,7,76])\n",
    "print(series1)\n",
    "print(series1.index)"
   ]
  },
  {
   "cell_type": "code",
   "execution_count": 10,
   "id": "fc6cdab6",
   "metadata": {},
   "outputs": [
    {
     "name": "stdout",
     "output_type": "stream",
     "text": [
      "m         1\n",
      "y      2024\n",
      "d    sunday\n",
      "dtype: object\n",
      "y      2024\n",
      "m         1\n",
      "d    sunday\n",
      "dtype: object\n"
     ]
    }
   ],
   "source": [
    "dicat = {\"m\":1,\"y\":2024,\"d\":\"sunday\"}\n",
    "series3 = pd.Series(dicat)\n",
    "print(series3)\n",
    "\n",
    "series4 = pd.Series(dicat,index=[\"y\",\"m\",\"d\"])\n",
    "print(series4)"
   ]
  },
  {
   "cell_type": "code",
   "execution_count": 11,
   "id": "cae740f9",
   "metadata": {},
   "outputs": [
    {
     "name": "stdout",
     "output_type": "stream",
     "text": [
      "a   -0.585165\n",
      "b    2.334181\n",
      "c   -0.974207\n",
      "d   -1.276946\n",
      "dtype: float64\n",
      "Index(['a', 'b', 'c', 'd'], dtype='object')\n"
     ]
    }
   ],
   "source": [
    "series1 = pd.Series(np.random.randn(4),index = [\"a\",\"b\",\"c\",\"d\"])\n",
    "print(series1)\n",
    "print(series1.index)"
   ]
  },
  {
   "cell_type": "code",
   "execution_count": 14,
   "id": "c687c640",
   "metadata": {},
   "outputs": [
    {
     "name": "stdout",
     "output_type": "stream",
     "text": [
      "creating series from scaler value\n",
      "a    8\n",
      "b    8\n",
      "c    8\n",
      "d    8\n",
      "dtype: int64\n"
     ]
    }
   ],
   "source": [
    "print(\"creating series from scaler value\")\n",
    "scl = pd.Series(8,index=['a','b','c','d'])\n",
    "print(scl)"
   ]
  },
  {
   "cell_type": "code",
   "execution_count": 15,
   "id": "523ab24c",
   "metadata": {},
   "outputs": [
    {
     "name": "stdout",
     "output_type": "stream",
     "text": [
      "a   -0.585165\n",
      "b    2.334181\n",
      "c   -0.974207\n",
      "d   -1.276946\n",
      "dtype: float64\n"
     ]
    }
   ],
   "source": [
    "print(series1)"
   ]
  },
  {
   "cell_type": "code",
   "execution_count": 16,
   "id": "e1b33e51",
   "metadata": {},
   "outputs": [
    {
     "name": "stdout",
     "output_type": "stream",
     "text": [
      "mean -0.1255341999366373\n",
      "\n",
      " median -0.7796858891142093\n",
      "\n",
      " maximum 2.3341811929607816\n",
      "\n",
      " minimum -1.2769462144789123\n"
     ]
    }
   ],
   "source": [
    "print(\"mean\",series1.mean())\n",
    "\n",
    "print(\"\\n median\",series1.median())\n",
    "\n",
    "print(\"\\n maximum\",series1.max())\n",
    "\n",
    "print(\"\\n minimum\",series1.min())"
   ]
  },
  {
   "cell_type": "code",
   "execution_count": null,
   "id": "f408d418",
   "metadata": {},
   "outputs": [
    {
     "name": "stdout",
     "output_type": "stream",
     "text": [
      " \n",
      " standard deviation: 1.664076809451505\n",
      "\n",
      " sum: -0.5021367997465492\n"
     ]
    }
   ],
   "source": [
    "print(\" \\n standard deviation:\",series1.std())\n",
    "\n",
    "print(\"\\n sum:\",series1.sum())"
   ]
  },
  {
   "cell_type": "code",
   "execution_count": 18,
   "id": "d5c08656",
   "metadata": {},
   "outputs": [
    {
     "name": "stdout",
     "output_type": "stream",
     "text": [
      "\n",
      " series2\n",
      "0     1\n",
      "1    10\n",
      "2     5\n",
      "3    17\n",
      "4     9\n",
      "dtype: int64\n",
      "\n",
      " sum 42\n",
      "\n",
      " sorted values\n",
      "0     1\n",
      "2     5\n",
      "4     9\n",
      "1    10\n",
      "3    17\n",
      "dtype: int64\n",
      "\n",
      " sorted indexes\n",
      "0     1\n",
      "1    10\n",
      "2     5\n",
      "3    17\n",
      "4     9\n",
      "dtype: int64\n"
     ]
    }
   ],
   "source": [
    "series2 = pd.Series([1,10,5,17,9])\n",
    "print('\\n series2')\n",
    "print(series2)\n",
    "print('\\n sum',series2.sum())\n",
    "print('\\n sorted values')\n",
    "print(series2.sort_values())\n",
    "print('\\n sorted indexes')\n",
    "print(series2.sort_index())"
   ]
  },
  {
   "cell_type": "code",
   "execution_count": 19,
   "id": "2b7ac83a",
   "metadata": {},
   "outputs": [
    {
     "name": "stdout",
     "output_type": "stream",
     "text": [
      "orginal series\n",
      "a    1\n",
      "b    2\n",
      "c    3\n",
      "d    4\n",
      "dtype: int64\n",
      "\n",
      "Addition\n",
      "a    2\n",
      "b    4\n",
      "c    6\n",
      "d    8\n",
      "dtype: int64\n",
      "\n",
      " Addition with non_matched labels\n",
      "a    NaN\n",
      "b    4.0\n",
      "c    6.0\n",
      "d    NaN\n",
      "dtype: float64\n",
      "\n",
      " Multiplications\n",
      "a     1\n",
      "b     4\n",
      "c     9\n",
      "d    16\n",
      "dtype: int64\n",
      "\n",
      " more mathematical operations\n",
      "a    0\n",
      "b    0\n",
      "c    0\n",
      "d    0\n",
      "dtype: int64\n",
      "a    0.5\n",
      "b    1.0\n",
      "c    1.5\n",
      "d    2.0\n",
      "dtype: float64\n",
      "a     1\n",
      "b     4\n",
      "c     9\n",
      "d    16\n",
      "dtype: int64\n"
     ]
    }
   ],
   "source": [
    "#create a series \n",
    "s1 = pd.Series([1,2,3,4],index = ['a','b','c','d'])\n",
    "print(\"orginal series\")\n",
    "print(s1)\n",
    "#addition\n",
    "print(\"\\nAddition\")\n",
    "print(s1+s1)\n",
    "# addition with non-matched labels\n",
    "print('\\n Addition with non_matched labels')\n",
    "print(s1[1:]+s1[:-1])\n",
    "# multiplications\n",
    "print(\"\\n Multiplications\")\n",
    "print(s1*s1)\n",
    "#more mathematical operations\n",
    "print(\"\\n more mathematical operations\")\n",
    "print(s1-s1)\n",
    "\n",
    "print(s1/2)\n",
    "print(s1**2)"
   ]
  },
  {
   "cell_type": "code",
   "execution_count": 2,
   "id": "e65bd046",
   "metadata": {},
   "outputs": [],
   "source": [
    "import pandas as pd\n",
    "import numpy as np"
   ]
  },
  {
   "cell_type": "code",
   "execution_count": 3,
   "id": "5bd85aa8",
   "metadata": {},
   "outputs": [
    {
     "name": "stdout",
     "output_type": "stream",
     "text": [
      "[1 2 3]\n"
     ]
    }
   ],
   "source": [
    "s = pd.Series([1,2,3],index = ['a','b','c'])\n",
    "print(s.values)"
   ]
  },
  {
   "cell_type": "code",
   "execution_count": null,
   "id": "91b470ab",
   "metadata": {},
   "outputs": [
    {
     "name": "stdout",
     "output_type": "stream",
     "text": [
      "myseries\n"
     ]
    }
   ],
   "source": [
    "s.name = 'myseries'\n",
    "print(s.name)# output myseries"
   ]
  },
  {
   "cell_type": "code",
   "execution_count": null,
   "id": "2c0746b9",
   "metadata": {},
   "outputs": [
    {
     "name": "stdout",
     "output_type": "stream",
     "text": [
      "3\n"
     ]
    }
   ],
   "source": [
    "print(s.size)# size of the series"
   ]
  },
  {
   "cell_type": "code",
   "execution_count": null,
   "id": "efe7ce94",
   "metadata": {},
   "outputs": [
    {
     "name": "stdout",
     "output_type": "stream",
     "text": [
      "(3,)\n"
     ]
    }
   ],
   "source": [
    "print(s.shape)# output shape of series"
   ]
  },
  {
   "cell_type": "markdown",
   "id": "ec12cf94",
   "metadata": {},
   "source": [
    "Is_unique attribute\n"
   ]
  },
  {
   "cell_type": "code",
   "execution_count": 7,
   "id": "d9ebe0a9",
   "metadata": {},
   "outputs": [
    {
     "name": "stdout",
     "output_type": "stream",
     "text": [
      "True\n"
     ]
    }
   ],
   "source": [
    "marks_series = pd.Series([90,80,87,93,88])\n",
    "print(marks_series.is_unique)# outputs true"
   ]
  },
  {
   "cell_type": "code",
   "execution_count": 8,
   "id": "2f93abcf",
   "metadata": {},
   "outputs": [
    {
     "name": "stdout",
     "output_type": "stream",
     "text": [
      "False\n"
     ]
    }
   ],
   "source": [
    "duplicate_series = pd.Series([1,2,4,2,3,2])\n",
    "print(duplicate_series.is_unique)# output false"
   ]
  },
  {
   "cell_type": "markdown",
   "id": "c6de67a8",
   "metadata": {},
   "source": [
    "isnull() and notnull() methods"
   ]
  },
  {
   "cell_type": "code",
   "execution_count": null,
   "id": "5658c2e4",
   "metadata": {},
   "outputs": [
    {
     "name": "stdout",
     "output_type": "stream",
     "text": [
      "0    False\n",
      "1    False\n",
      "2     True\n",
      "3    False\n",
      "dtype: bool\n",
      "0     True\n",
      "1     True\n",
      "2    False\n",
      "3     True\n",
      "dtype: bool\n"
     ]
    }
   ],
   "source": [
    "s_with_nan= pd.Series([1,2,None,4])\n",
    "print(s_with_nan.isnull())# output corresponding values of each value for isnull()\n",
    "print(s_with_nan.notnull())# output corresponding values of each value for notnull()"
   ]
  },
  {
   "cell_type": "code",
   "execution_count": 11,
   "id": "51585a59",
   "metadata": {},
   "outputs": [
    {
     "name": "stdout",
     "output_type": "stream",
     "text": [
      "a    10\n",
      "b    20\n",
      "c    30\n",
      "d    40\n",
      "e    50\n",
      "dtype: int64\n"
     ]
    }
   ],
   "source": [
    "data = pd.Series([10,20,30,40,50],index=['a','b','c','d','e'])\n",
    "print(data)"
   ]
  },
  {
   "cell_type": "markdown",
   "id": "31bdbff9",
   "metadata": {},
   "source": [
    "Accessing data in pandas series"
   ]
  },
  {
   "cell_type": "code",
   "execution_count": 13,
   "id": "a4a36c57",
   "metadata": {},
   "outputs": [
    {
     "name": "stdout",
     "output_type": "stream",
     "text": [
      "30\n"
     ]
    }
   ],
   "source": [
    "#using label indexing\n",
    "print(data['c'])# outputs: 30"
   ]
  },
  {
   "cell_type": "code",
   "execution_count": null,
   "id": "35d68d1d",
   "metadata": {},
   "outputs": [
    {
     "name": "stdout",
     "output_type": "stream",
     "text": [
      "30\n"
     ]
    },
    {
     "name": "stderr",
     "output_type": "stream",
     "text": [
      "C:\\Users\\VEDANT\\AppData\\Local\\Temp\\ipykernel_428\\2068073781.py:2: FutureWarning: Series.__getitem__ treating keys as positions is deprecated. In a future version, integer keys will always be treated as labels (consistent with DataFrame behavior). To access a value by position, use `ser.iloc[pos]`\n",
      "  print(data[2])\n"
     ]
    }
   ],
   "source": [
    "#using integer position\n",
    "print(data[2]) # output 30"
   ]
  },
  {
   "cell_type": "code",
   "execution_count": 16,
   "id": "e157ed6f",
   "metadata": {},
   "outputs": [
    {
     "name": "stdout",
     "output_type": "stream",
     "text": [
      "30\n"
     ]
    }
   ],
   "source": [
    "print(data.loc['c'])"
   ]
  },
  {
   "cell_type": "code",
   "execution_count": 18,
   "id": "e334d1a0",
   "metadata": {},
   "outputs": [
    {
     "name": "stdout",
     "output_type": "stream",
     "text": [
      "40\n"
     ]
    }
   ],
   "source": [
    "print(data.iloc[3])"
   ]
  },
  {
   "cell_type": "markdown",
   "id": "fd460b39",
   "metadata": {},
   "source": [
    "Accessing multiple elements"
   ]
  },
  {
   "cell_type": "code",
   "execution_count": 20,
   "id": "e38a8831",
   "metadata": {},
   "outputs": [
    {
     "name": "stdout",
     "output_type": "stream",
     "text": [
      "a    10\n",
      "b    20\n",
      "e    50\n",
      "dtype: int64\n"
     ]
    }
   ],
   "source": [
    "#using label indexing\n",
    "print(data[['a','b','e']])# fancy indexing"
   ]
  },
  {
   "cell_type": "code",
   "execution_count": 21,
   "id": "9dc878a1",
   "metadata": {},
   "outputs": [
    {
     "name": "stdout",
     "output_type": "stream",
     "text": [
      "a    10\n",
      "c    30\n",
      "e    50\n",
      "dtype: int64\n",
      "\n",
      "b    20\n",
      "d    40\n",
      "dtype: int64\n",
      "\n",
      "b    20\n",
      "c    30\n",
      "d    40\n",
      "dtype: int64\n"
     ]
    },
    {
     "name": "stderr",
     "output_type": "stream",
     "text": [
      "C:\\Users\\VEDANT\\AppData\\Local\\Temp\\ipykernel_428\\2494536337.py:2: FutureWarning: Series.__getitem__ treating keys as positions is deprecated. In a future version, integer keys will always be treated as labels (consistent with DataFrame behavior). To access a value by position, use `ser.iloc[pos]`\n",
      "  print(data[[0,2,4]])\n",
      "C:\\Users\\VEDANT\\AppData\\Local\\Temp\\ipykernel_428\\2494536337.py:6: FutureWarning: Series.__getitem__ treating keys as positions is deprecated. In a future version, integer keys will always be treated as labels (consistent with DataFrame behavior). To access a value by position, use `ser.iloc[pos]`\n",
      "  print(data[[1,3]])\n",
      "C:\\Users\\VEDANT\\AppData\\Local\\Temp\\ipykernel_428\\2494536337.py:9: FutureWarning: Series.__getitem__ treating keys as positions is deprecated. In a future version, integer keys will always be treated as labels (consistent with DataFrame behavior). To access a value by position, use `ser.iloc[pos]`\n",
      "  print(data[[1,2,3]])\n"
     ]
    }
   ],
   "source": [
    "#using position or fancy indexing\n",
    "print(data[[0,2,4]])\n",
    "\n",
    "print()\n",
    "\n",
    "print(data[[1,3]])\n",
    "\n",
    "print()\n",
    "print(data[[1,2,3]])"
   ]
  },
  {
   "cell_type": "markdown",
   "id": "450fd48e",
   "metadata": {},
   "source": [
    "Slicing "
   ]
  },
  {
   "cell_type": "markdown",
   "id": "6404bda1",
   "metadata": {},
   "source": [
    "Slicing with labels"
   ]
  },
  {
   "cell_type": "code",
   "execution_count": null,
   "id": "5f98ea62",
   "metadata": {},
   "outputs": [
    {
     "name": "stdout",
     "output_type": "stream",
     "text": [
      "b    20\n",
      "c    30\n",
      "d    40\n",
      "dtype: int64\n"
     ]
    }
   ],
   "source": [
    "print(data['b':'d'])# this include start and end labels"
   ]
  },
  {
   "cell_type": "code",
   "execution_count": 24,
   "id": "4cb1b319",
   "metadata": {},
   "outputs": [
    {
     "name": "stdout",
     "output_type": "stream",
     "text": [
      "a    10\n",
      "b    20\n",
      "c    30\n",
      "d    40\n",
      "e    50\n",
      "dtype: int64\n"
     ]
    }
   ],
   "source": [
    "print(data[:'e'])"
   ]
  },
  {
   "cell_type": "markdown",
   "id": "d209b91a",
   "metadata": {},
   "source": [
    "Slicing with integer positions"
   ]
  },
  {
   "cell_type": "code",
   "execution_count": 25,
   "id": "0f34d996",
   "metadata": {},
   "outputs": [
    {
     "name": "stdout",
     "output_type": "stream",
     "text": [
      "20\n"
     ]
    },
    {
     "name": "stderr",
     "output_type": "stream",
     "text": [
      "C:\\Users\\VEDANT\\AppData\\Local\\Temp\\ipykernel_428\\203165865.py:1: FutureWarning: Series.__getitem__ treating keys as positions is deprecated. In a future version, integer keys will always be treated as labels (consistent with DataFrame behavior). To access a value by position, use `ser.iloc[pos]`\n",
      "  print(data[1])\n"
     ]
    }
   ],
   "source": [
    "print(data[1])"
   ]
  },
  {
   "cell_type": "code",
   "execution_count": 26,
   "id": "28f2d7ba",
   "metadata": {},
   "outputs": [
    {
     "name": "stdout",
     "output_type": "stream",
     "text": [
      "b    20\n",
      "c    30\n",
      "d    40\n",
      "e    50\n",
      "dtype: int64\n"
     ]
    }
   ],
   "source": [
    "print(data[1:5])"
   ]
  },
  {
   "cell_type": "code",
   "execution_count": 27,
   "id": "ffad9135",
   "metadata": {},
   "outputs": [
    {
     "name": "stdout",
     "output_type": "stream",
     "text": [
      "a    10\n",
      "b    20\n",
      "c    30\n",
      "d    40\n",
      "e    50\n",
      "dtype: int64\n"
     ]
    }
   ],
   "source": [
    "print(data[:5])"
   ]
  },
  {
   "cell_type": "code",
   "execution_count": 28,
   "id": "de607ef9",
   "metadata": {},
   "outputs": [
    {
     "name": "stdout",
     "output_type": "stream",
     "text": [
      "a    10\n",
      "c    30\n",
      "e    50\n",
      "dtype: int64\n"
     ]
    }
   ],
   "source": [
    "print(data[::2])"
   ]
  },
  {
   "cell_type": "code",
   "execution_count": 30,
   "id": "f7b9098a",
   "metadata": {},
   "outputs": [
    {
     "name": "stdout",
     "output_type": "stream",
     "text": [
      "e    50\n",
      "d    40\n",
      "c    30\n",
      "b    20\n",
      "a    10\n",
      "dtype: int64\n"
     ]
    }
   ],
   "source": [
    "print(data[::-1])"
   ]
  },
  {
   "cell_type": "markdown",
   "id": "9b69cd50",
   "metadata": {},
   "source": [
    "boolean indexing"
   ]
  },
  {
   "cell_type": "code",
   "execution_count": 34,
   "id": "5ee680fe",
   "metadata": {},
   "outputs": [
    {
     "name": "stdout",
     "output_type": "stream",
     "text": [
      "c    30\n",
      "d    40\n",
      "e    50\n",
      "dtype: int64\n",
      "\n",
      "a    10\n",
      "b    20\n",
      "dtype: int64\n",
      "\n",
      "b    20\n",
      "c    30\n",
      "d    40\n",
      "e    50\n",
      "dtype: int64\n",
      "\n",
      "a    10\n",
      "b    20\n",
      "dtype: int64\n"
     ]
    }
   ],
   "source": [
    "print(data[data>25])#greater than 25\n",
    "\n",
    "print()\n",
    "\n",
    "print(data[data<25])#smaller than 25\n",
    "\n",
    "print()\n",
    "\n",
    "print(data[data>=20])\n",
    "\n",
    "print()\n",
    "\n",
    "print(data[data<=20])"
   ]
  },
  {
   "cell_type": "code",
   "execution_count": 35,
   "id": "32bb3692",
   "metadata": {},
   "outputs": [
    {
     "name": "stdout",
     "output_type": "stream",
     "text": [
      "0      1\n",
      "1      2\n",
      "2      3\n",
      "3      4\n",
      "4      5\n",
      "5      6\n",
      "6      7\n",
      "7      8\n",
      "8      9\n",
      "9     10\n",
      "10    11\n",
      "11    12\n",
      "12    13\n",
      "13    14\n",
      "14    15\n",
      "15    16\n",
      "16    17\n",
      "17    18\n",
      "18    19\n",
      "dtype: int64\n"
     ]
    }
   ],
   "source": [
    "x = pd.Series(np.arange(1,20))\n",
    "print(x)"
   ]
  },
  {
   "cell_type": "code",
   "execution_count": 38,
   "id": "fe0f9aec",
   "metadata": {},
   "outputs": [
    {
     "data": {
      "text/plain": [
       "0      1\n",
       "1      2\n",
       "2      3\n",
       "3      4\n",
       "4      5\n",
       "5      6\n",
       "6      7\n",
       "7      8\n",
       "8      9\n",
       "9     10\n",
       "10    11\n",
       "11    12\n",
       "12    13\n",
       "13    14\n",
       "14    15\n",
       "15    16\n",
       "16    17\n",
       "17    18\n",
       "18    19\n",
       "19    20\n",
       "dtype: int64"
      ]
     },
     "execution_count": 38,
     "metadata": {},
     "output_type": "execute_result"
    }
   ],
   "source": [
    "#WAP select all the even numbers , all odd numbers, number divisible by both 2 and 4\n",
    "# print numbers between 12 to 18 including 18\n",
    "\n",
    "data1 = pd.Series(np.arange(1,21))\n",
    "data1"
   ]
  },
  {
   "cell_type": "code",
   "execution_count": null,
   "id": "30c63660",
   "metadata": {},
   "outputs": [
    {
     "name": "stdout",
     "output_type": "stream",
     "text": [
      "1      2\n",
      "3      4\n",
      "5      6\n",
      "7      8\n",
      "9     10\n",
      "11    12\n",
      "13    14\n",
      "15    16\n",
      "17    18\n",
      "19    20\n",
      "dtype: int64\n"
     ]
    }
   ],
   "source": [
    "print(data1[data1%2 ==0])#print even"
   ]
  },
  {
   "cell_type": "code",
   "execution_count": null,
   "id": "06309d38",
   "metadata": {},
   "outputs": [
    {
     "name": "stdout",
     "output_type": "stream",
     "text": [
      "0      1\n",
      "2      3\n",
      "4      5\n",
      "6      7\n",
      "8      9\n",
      "10    11\n",
      "12    13\n",
      "14    15\n",
      "16    17\n",
      "18    19\n",
      "dtype: int64\n"
     ]
    }
   ],
   "source": [
    "print(data1[data1%2!=0])#print odd numbers"
   ]
  },
  {
   "cell_type": "code",
   "execution_count": null,
   "id": "c01b665f",
   "metadata": {},
   "outputs": [
    {
     "name": "stdout",
     "output_type": "stream",
     "text": [
      "3      4\n",
      "7      8\n",
      "11    12\n",
      "15    16\n",
      "19    20\n",
      "dtype: int64\n"
     ]
    }
   ],
   "source": [
    "print(data1[data1%4==0])#prints numbers divisible by 4 and 2 both"
   ]
  },
  {
   "cell_type": "code",
   "execution_count": null,
   "id": "7142cda5",
   "metadata": {},
   "outputs": [
    {
     "name": "stdout",
     "output_type": "stream",
     "text": [
      "11    12\n",
      "12    13\n",
      "13    14\n",
      "14    15\n",
      "15    16\n",
      "16    17\n",
      "17    18\n",
      "dtype: int64\n"
     ]
    }
   ],
   "source": [
    "print(data1[11:18])#prints numbers between 12 and 18"
   ]
  },
  {
   "cell_type": "code",
   "execution_count": 47,
   "id": "ff18565a",
   "metadata": {},
   "outputs": [
    {
     "name": "stdout",
     "output_type": "stream",
     "text": [
      "a    25\n",
      "b    20\n",
      "c    30\n",
      "d    40\n",
      "e    50\n",
      "dtype: int64\n",
      "\n",
      "a    25\n",
      "b    25\n",
      "c    35\n",
      "d    40\n",
      "e    50\n",
      "dtype: int64\n"
     ]
    }
   ],
   "source": [
    "data['a']=25 #change value at index 'a'\n",
    "print(data)\n",
    "\n",
    "print()\n",
    "\n",
    "data[1:3] = [25,35] #modify a slice\n",
    "print(data)"
   ]
  },
  {
   "cell_type": "code",
   "execution_count": 56,
   "id": "b2443711",
   "metadata": {},
   "outputs": [
    {
     "data": {
      "text/plain": [
       "0      3\n",
       "2      5\n",
       "3      6\n",
       "6      9\n",
       "7     10\n",
       "9     12\n",
       "12    15\n",
       "15    18\n",
       "17    20\n",
       "18    21\n",
       "21    24\n",
       "22    25\n",
       "24    27\n",
       "27    30\n",
       "30    33\n",
       "32    35\n",
       "33    36\n",
       "36    39\n",
       "37    40\n",
       "39    42\n",
       "42    45\n",
       "45    48\n",
       "dtype: int64"
      ]
     },
     "execution_count": 56,
     "metadata": {},
     "output_type": "execute_result"
    }
   ],
   "source": [
    "ser1 = pd.Series(np.arange(3,50))\n",
    "ser1= ser1[(ser1%3==0) | (ser1%5==0)]\n",
    "ser1"
   ]
  },
  {
   "cell_type": "code",
   "execution_count": 57,
   "id": "6c2adba0",
   "metadata": {},
   "outputs": [
    {
     "data": {
      "text/plain": [
       "3     11\n",
       "7     15\n",
       "9     17\n",
       "15    23\n",
       "17    25\n",
       "21    29\n",
       "27    35\n",
       "33    41\n",
       "37    45\n",
       "39    47\n",
       "45    53\n",
       "dtype: int64"
      ]
     },
     "execution_count": 57,
     "metadata": {},
     "output_type": "execute_result"
    }
   ],
   "source": [
    "ser1 = ser1[(ser1%2==0)]\n",
    "ser1+=5\n",
    "ser1"
   ]
  },
  {
   "cell_type": "code",
   "execution_count": null,
   "id": "b9de5f36",
   "metadata": {},
   "outputs": [
    {
     "name": "stdout",
     "output_type": "stream",
     "text": [
      "0      5\n",
      "1     11\n",
      "2      9\n",
      "3     15\n",
      "4     17\n",
      "5     15\n",
      "6     23\n",
      "7     25\n",
      "8     21\n",
      "9     29\n",
      "10    25\n",
      "11    27\n",
      "12    35\n",
      "13    33\n",
      "14    35\n",
      "15    41\n",
      "16    39\n",
      "17    45\n",
      "18    47\n",
      "19    45\n",
      "20    53\n",
      "dtype: int64\n"
     ]
    }
   ],
   "source": [
    "s1 = pd.Series([i for i in range(5,50) if i%3==0 or i%5==0])\n",
    "s1[s1%2==0]+=5\n",
    "print(s1)# using list comprihension"
   ]
  },
  {
   "cell_type": "code",
   "execution_count": null,
   "id": "7fb0821e",
   "metadata": {},
   "outputs": [],
   "source": []
  }
 ],
 "metadata": {
  "kernelspec": {
   "display_name": "Python 3",
   "language": "python",
   "name": "python3"
  },
  "language_info": {
   "codemirror_mode": {
    "name": "ipython",
    "version": 3
   },
   "file_extension": ".py",
   "mimetype": "text/x-python",
   "name": "python",
   "nbconvert_exporter": "python",
   "pygments_lexer": "ipython3",
   "version": "3.13.5"
  }
 },
 "nbformat": 4,
 "nbformat_minor": 5
}
                                                                                           }
