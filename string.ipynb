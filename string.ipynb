{
 "cells": [
  {
   "cell_type": "code",
   "execution_count": 1,
   "id": "cc3641c3",
   "metadata": {},
   "outputs": [
    {
     "name": "stdout",
     "output_type": "stream",
     "text": [
      "<class 'str'>\n"
     ]
    }
   ],
   "source": [
    "#stringss...\n",
    "# string is also immutable like tuple\n",
    "str1= \"raju\"\n",
    "print(type(str1))"
   ]
  },
  {
   "cell_type": "code",
   "execution_count": 3,
   "id": "ed8b3f1f",
   "metadata": {},
   "outputs": [
    {
     "name": "stdout",
     "output_type": "stream",
     "text": [
      "17\n"
     ]
    }
   ],
   "source": [
    "mystr = \"Python's Training\"\n",
    "print(len(mystr)) "
   ]
  },
  {
   "cell_type": "code",
   "execution_count": 6,
   "id": "3b990e7c",
   "metadata": {},
   "outputs": [
    {
     "name": "stdout",
     "output_type": "stream",
     "text": [
      "nt a t\n",
      "e h\n",
      "n Python\n",
      "L'LrPh\n",
      "hn\n",
      "on\n"
     ]
    }
   ],
   "source": [
    "x = \"Let's Learn Python\"\n",
    "print(x[::-3])\n",
    "print(x[7::4])\n",
    "print(x[10:])\n",
    "print(x[::3])\n",
    "print(x[-3:-10:-5])\n",
    "print(x[-2::])"
   ]
  },
  {
   "cell_type": "code",
   "execution_count": 7,
   "id": "7671da4f",
   "metadata": {},
   "outputs": [
    {
     "name": "stdout",
     "output_type": "stream",
     "text": [
      "Hello World\n"
     ]
    }
   ],
   "source": [
    "print(\"Hello World\")"
   ]
  },
  {
   "cell_type": "code",
   "execution_count": 8,
   "id": "754d0503",
   "metadata": {},
   "outputs": [
    {
     "name": "stdout",
     "output_type": "stream",
     "text": [
      "Raju \n",
      "Raju Keolaari.\n"
     ]
    }
   ],
   "source": [
    "s1 = \"Raju \"\n",
    "s2 = \"Keolaari.\"\n",
    "print(s1)\n",
    "s1 = s1+s2#concatenation of 2 strings\n",
    "print(s1)\n",
    "\n"
   ]
  },
  {
   "cell_type": "code",
   "execution_count": null,
   "id": "acb0dd4b",
   "metadata": {},
   "outputs": [
    {
     "name": "stdout",
     "output_type": "stream",
     "text": [
      "Raju Keolaari.Raju Keolaari.Raju Keolaari.Raju Keolaari.\n"
     ]
    }
   ],
   "source": [
    "s = s1 *4# repeat string n times \n",
    "print(s)"
   ]
  },
  {
   "cell_type": "code",
   "execution_count": 10,
   "id": "23ac62af",
   "metadata": {},
   "outputs": [
    {
     "name": "stdout",
     "output_type": "stream",
     "text": [
      "H e l l o   w o r l d "
     ]
    }
   ],
   "source": [
    "#iteration through string\n",
    "str1 = \"Hello world\"\n",
    "for char in str1:\n",
    "    print(char,end = \" \")"
   ]
  },
  {
   "cell_type": "code",
   "execution_count": 11,
   "id": "dfee3b67",
   "metadata": {},
   "outputs": [
    {
     "name": "stdout",
     "output_type": "stream",
     "text": [
      "True\n"
     ]
    }
   ],
   "source": [
    "print(\"o\" in str1)"
   ]
  },
  {
   "cell_type": "code",
   "execution_count": 12,
   "id": "d519dbef",
   "metadata": {},
   "outputs": [
    {
     "name": "stdout",
     "output_type": "stream",
     "text": [
      "False\n"
     ]
    }
   ],
   "source": [
    "print(\"1\" in str1)"
   ]
  },
  {
   "cell_type": "code",
   "execution_count": null,
   "id": "1c7fc987",
   "metadata": {},
   "outputs": [
    {
     "name": "stdout",
     "output_type": "stream",
     "text": [
      "PYTHON\n",
      "python\n"
     ]
    }
   ],
   "source": [
    "x = \"PYTHON\"\n",
    "y = x.lower()#for lowercase\n",
    "print(x)\n",
    "print(y)"
   ]
  },
  {
   "cell_type": "code",
   "execution_count": null,
   "id": "7f6faf05",
   "metadata": {},
   "outputs": [
    {
     "name": "stdout",
     "output_type": "stream",
     "text": [
      "RAJU\n"
     ]
    }
   ],
   "source": [
    "z = \"raju\"\n",
    "print(z.upper())#for uppercase"
   ]
  },
  {
   "cell_type": "code",
   "execution_count": 15,
   "id": "66fd96a3",
   "metadata": {},
   "outputs": [
    {
     "name": "stdout",
     "output_type": "stream",
     "text": [
      "Python is a programming language\n"
     ]
    }
   ],
   "source": [
    "#capitalize \n",
    "a = \"Python IS a PROGRAMMING languagE\"\n",
    "print(a.capitalize())"
   ]
  },
  {
   "cell_type": "code",
   "execution_count": null,
   "id": "6559fcd4",
   "metadata": {},
   "outputs": [
    {
     "name": "stdout",
     "output_type": "stream",
     "text": [
      "Hello world\n",
      "Hello\n",
      "world\n"
     ]
    }
   ],
   "source": [
    "#split \n",
    "a = \"Hello world\"\n",
    "b,c = a.split(\" \")#split the string into strings from space \n",
    "print(a)\n",
    "print(b)\n",
    "print(c)"
   ]
  },
  {
   "cell_type": "code",
   "execution_count": 20,
   "id": "b6fd0180",
   "metadata": {},
   "outputs": [
    {
     "name": "stdout",
     "output_type": "stream",
     "text": [
      "['Hello,', 'everyone', 'today', 'we', 'will', 'learn', 'python']\n"
     ]
    }
   ],
   "source": [
    "str1 = \"Hello, everyone today we will learn python\"\n",
    "lst = str1.split(\" \")\n",
    "print(lst)"
   ]
  },
  {
   "cell_type": "code",
   "execution_count": 21,
   "id": "5da96077",
   "metadata": {},
   "outputs": [
    {
     "name": "stdout",
     "output_type": "stream",
     "text": [
      "['23', '21231', '32313', '11']\n"
     ]
    }
   ],
   "source": [
    "str2 = \"23,21231,32313,11\"\n",
    "lst = str2.split(sep =\",\")\n",
    "print(lst)"
   ]
  },
  {
   "cell_type": "code",
   "execution_count": 22,
   "id": "585ef362",
   "metadata": {},
   "outputs": [
    {
     "name": "stdout",
     "output_type": "stream",
     "text": [
      "['23,2', '23', ',323', '3,', '', '']\n"
     ]
    }
   ],
   "source": [
    "str2 = \"23,21231,32313,11\"\n",
    "lst = str2.split(sep =\"1\")\n",
    "print(lst)"
   ]
  },
  {
   "cell_type": "code",
   "execution_count": null,
   "id": "22692174",
   "metadata": {},
   "outputs": [
    {
     "name": "stdout",
     "output_type": "stream",
     "text": [
      "raju,Keolaari\n"
     ]
    }
   ],
   "source": [
    "# using join\n",
    "lst  = [\"raju\",\"Keolaari\"]\n",
    "str = \",\".join(lst)\n",
    "print(str)"
   ]
  },
  {
   "cell_type": "code",
   "execution_count": 27,
   "id": "36f26182",
   "metadata": {},
   "outputs": [
    {
     "name": "stdout",
     "output_type": "stream",
     "text": [
      "12 jun 2024\n"
     ]
    }
   ],
   "source": [
    "date = input(\"Enter the date in this form date/month/year \")\n",
    "day,month,year = date.split(sep=\"/\")\n",
    "print(day, month, year)\n"
   ]
  },
  {
   "cell_type": "code",
   "execution_count": null,
   "id": "1a20e9b2",
   "metadata": {},
   "outputs": [
    {
     "name": "stdout",
     "output_type": "stream",
     "text": [
      "everyone has 8 length\n"
     ]
    }
   ],
   "source": [
    "# Program to print longest word and it's length of the string\n",
    "str1 = input(\"enter the string\")\n",
    "lst = str1.split(\" \")\n",
    "lst = list(lst)\n",
    "word = \"\"\n",
    "length = 0\n",
    "for i in lst:\n",
    "    if len(i)>length:\n",
    "        length = len(i)\n",
    "        word = i\n",
    "print(word,\"has\",length,\"length\")        \n",
    "\n"
   ]
  },
  {
   "cell_type": "code",
   "execution_count": null,
   "id": "6bf7079f",
   "metadata": {},
   "outputs": [
    {
     "name": "stdout",
     "output_type": "stream",
     "text": [
      "raju is Not palindrome\n"
     ]
    }
   ],
   "source": [
    "# to check whether the word is palindrome or not\n",
    "str1 = input(\"Enter the word\")\n",
    "str2 = str1[::-1]\n",
    "#str2 = str1.reverse()\n",
    "if(str1==str2):print(\"Palindrome\")\n",
    "else:print(str1,\"is Not palindrome\")"
   ]
  },
  {
   "cell_type": "code",
   "execution_count": null,
   "id": "a0fdd21b",
   "metadata": {},
   "outputs": [
    {
     "name": "stdout",
     "output_type": "stream",
     "text": [
      "hello.Everyone,let's. learn.python,\n"
     ]
    }
   ],
   "source": [
    "#replace every \",\" with \".\"\n",
    "str1 = \"hello,Everyone.let's, learn,python.\"\n",
    "str2 = str1.replace(\",\",\"#\")\n",
    "str2 = str2.replace(\".\",\",\")\n",
    "str2 = str2.replace(\"#\",\".\")\n",
    "print(str2)"
   ]
  },
  {
   "cell_type": "code",
   "execution_count": null,
   "id": "a45f24c0",
   "metadata": {},
   "outputs": [
    {
     "name": "stdout",
     "output_type": "stream",
     "text": [
      "['__add__', '__class__', '__contains__', '__delattr__', '__dir__', '__doc__', '__eq__', '__format__', '__ge__', '__getattribute__', '__getitem__', '__getnewargs__', '__getstate__', '__gt__', '__hash__', '__init__', '__init_subclass__', '__iter__', '__le__', '__len__', '__lt__', '__mod__', '__mul__', '__ne__', '__new__', '__reduce__', '__reduce_ex__', '__repr__', '__rmod__', '__rmul__', '__setattr__', '__sizeof__', '__str__', '__subclasshook__', 'capitalize', 'casefold', 'center', 'count', 'encode', 'endswith', 'expandtabs', 'find', 'format', 'format_map', 'index', 'isalnum', 'isalpha', 'isascii', 'isdecimal', 'isdigit', 'isidentifier', 'islower', 'isnumeric', 'isprintable', 'isspace', 'istitle', 'isupper', 'join', 'ljust', 'lower', 'lstrip', 'maketrans', 'partition', 'removeprefix', 'removesuffix', 'replace', 'rfind', 'rindex', 'rjust', 'rpartition', 'rsplit', 'rstrip', 'split', 'splitlines', 'startswith', 'strip', 'swapcase', 'title', 'translate', 'upper', 'zfill']\n"
     ]
    }
   ],
   "source": [
    "#to print all inbuilt methods of strings\n",
    "str1 = \" \"\n",
    "print(dir(str1))"
   ]
  },
  {
   "cell_type": "code",
   "execution_count": null,
   "id": "2a9567fc",
   "metadata": {},
   "outputs": [],
   "source": [
    "          "
   ]
  },
  {
   "cell_type": "code",
   "execution_count": null,
   "id": "8c5432bc",
   "metadata": {},
   "outputs": [],
   "source": []
  }
 ],
 "metadata": {
  "kernelspec": {
   "display_name": "Python 3",
   "language": "python",
   "name": "python3"
  },
  "language_info": {
   "codemirror_mode": {
    "name": "ipython",
    "version": 3
   },
   "file_extension": ".py",
   "mimetype": "text/x-python",
   "name": "python",
   "nbconvert_exporter": "python",
   "pygments_lexer": "ipython3",
   "version": "3.13.5"
  }
 },
 "nbformat": 4,
 "nbformat_minor": 5
}
