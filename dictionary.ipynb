{
 "cells": [
  {
   "cell_type": "code",
   "execution_count": null,
   "id": "0d22a944",
   "metadata": {},
   "outputs": [],
   "source": [
    "#dictionary is data structure that stores data in the from of pairs of \n",
    "#  Key:Value\n",
    "# some points to remember\n",
    "# Dictionary is immutable\n",
    "# It stores only unique elements \n",
    "# value can store mixed values "
   ]
  },
  {
   "cell_type": "code",
   "execution_count": null,
   "id": "19077445",
   "metadata": {},
   "outputs": [
    {
     "name": "stdout",
     "output_type": "stream",
     "text": [
      "{1: 'abc', 2: 'def'}\n",
      "{'name': 'Raju', 'last_name': 'Baghlai'}\n",
      "{'rollno': 1, 2: ['abe', 'bcd']}\n"
     ]
    }
   ],
   "source": [
    "my_dict = {} # will create a empty dictionary\n",
    "\n",
    "#dictionary with integer keys\n",
    "my_dict = {1 :\"abc\", 2: \"def\"}\n",
    "print(my_dict)\n",
    "\n",
    "my_dict1 = {\"name\":\"Raju\", \"last_name\": \"Vishwakarma\"}\n",
    "print(my_dict1)\n",
    "\n",
    "my_dict2 = {\"rollno\":1, 2:[\"abe\",\"bcd\"]}\n",
    "print(my_dict2)"
   ]
  },
  {
   "cell_type": "code",
   "execution_count": null,
   "id": "c66737a4",
   "metadata": {},
   "outputs": [
    {
     "name": "stdout",
     "output_type": "stream",
     "text": [
      "{1: 'abd', 2: 'dfd', 3: 'eds', 4: 'dede'}\n",
      "{1: 'a', 2: 'b', 3: 'c', 4: 'd'}\n",
      "{1: 'a', 2: 'b', 3: 'c'}\n"
     ]
    }
   ],
   "source": [
    "d1 = dict([[1,\"abd\"],[2,\"dfd\"],[3,\"eds\"],[4,\"dede\"]])\n",
    "print(d1)#prints dictionary made from list\n",
    "\n",
    "d2 = dict([(1,\"a\"),(2,\"b\"),(3,\"c\"),(4,\"d\")])\n",
    "print(d2)#prints dictionary made from tuples\n",
    "\n",
    "d3 = dict([{\"a\",1},{\"b\",2},{\"c\",3}])\n",
    "print(d3)# prints dictionary made from set\n",
    "\n",
    "#similarly we can make dictionary from any other data structure but make sure that data \n",
    "# should be in form of key : value pair, try for very combination"
   ]
  },
  {
   "cell_type": "code",
   "execution_count": null,
   "id": "f41fa7fc",
   "metadata": {},
   "outputs": [
    {
     "name": "stdout",
     "output_type": "stream",
     "text": [
      "Satish\n"
     ]
    }
   ],
   "source": [
    "# Dictionary can only be accessed through key only,not by indexes\n",
    "dic1 = {\"name\":\"Satish\",\"age\":27,\"address\":\"Jabalpur\"}\n",
    "\n",
    "print(dic1[\"name\"])# will print value of this key-> Satish"
   ]
  },
  {
   "cell_type": "code",
   "execution_count": 6,
   "id": "d2c90c87",
   "metadata": {},
   "outputs": [
    {
     "ename": "KeyError",
     "evalue": "'degree'",
     "output_type": "error",
     "traceback": [
      "\u001b[31m---------------------------------------------------------------------------\u001b[39m",
      "\u001b[31mKeyError\u001b[39m                                  Traceback (most recent call last)",
      "\u001b[36mCell\u001b[39m\u001b[36m \u001b[39m\u001b[32mIn[6]\u001b[39m\u001b[32m, line 1\u001b[39m\n\u001b[32m----> \u001b[39m\u001b[32m1\u001b[39m \u001b[38;5;28mprint\u001b[39m(\u001b[43mdic1\u001b[49m\u001b[43m[\u001b[49m\u001b[33;43m\"\u001b[39;49m\u001b[33;43mdegree\u001b[39;49m\u001b[33;43m\"\u001b[39;49m\u001b[43m]\u001b[49m)\u001b[38;5;66;03m# will give key error as no such key exist\u001b[39;00m\n",
      "\u001b[31mKeyError\u001b[39m: 'degree'"
     ]
    }
   ],
   "source": [
    "print(dic1[\"degree\"])# will give key error as no such key exist"
   ]
  },
  {
   "cell_type": "code",
   "execution_count": null,
   "id": "e4440dd6",
   "metadata": {},
   "outputs": [
    {
     "name": "stdout",
     "output_type": "stream",
     "text": [
      "27\n",
      "None\n"
     ]
    }
   ],
   "source": [
    "# can also fetch using get() method\n",
    "print(dic1.get(\"age\"))# will print age\n",
    "print(dic1.get(\"degree\")) # will return \"none\" , not error\n",
    "# this is the benefit of using it"
   ]
  },
  {
   "cell_type": "code",
   "execution_count": 12,
   "id": "66a3961b",
   "metadata": {},
   "outputs": [
    {
     "name": "stdout",
     "output_type": "stream",
     "text": [
      "{'name': 'Satish', 'age': 27, 'address': 'Jabalpur'}\n",
      "{'name': 'raju', 'age': 27, 'address': 'Jabalpur'}\n",
      "{'name': 'raju', 'age': 27, 'address': 'Jabalpur', 'degree': 'B-TECH'}\n"
     ]
    }
   ],
   "source": [
    "# updation in the dictionary\n",
    "dic1 = {\"name\":\"Satish\",\"age\":27,\"address\":\"Jabalpur\"}\n",
    "# to update the name\n",
    "print(dic1)\n",
    "dic1[\"name\"] = \"raju\"\n",
    "print(dic1)\n",
    "#if no key as 'name' was present it will create the one and stores\n",
    "\n",
    "dic1[\"degree\"]= \"B-TECH\"\n",
    "print(dic1)#wil add 'degree': \"B-TECH\""
   ]
  },
  {
   "cell_type": "code",
   "execution_count": null,
   "id": "451f13ff",
   "metadata": {},
   "outputs": [
    {
     "name": "stdout",
     "output_type": "stream",
     "text": [
      "27\n",
      "{'name': 'raju', 'address': 'Jabalpur', 'degree': 'B-TECH'}\n"
     ]
    }
   ],
   "source": [
    "# pop()\n",
    "a = dic1.pop(\"age\")\n",
    "print(a)\n",
    "print(dic1)# age will get popped"
   ]
  },
  {
   "cell_type": "code",
   "execution_count": 14,
   "id": "ec333c85",
   "metadata": {},
   "outputs": [
    {
     "name": "stdout",
     "output_type": "stream",
     "text": [
      "('degree', 'B-TECH')\n",
      "{'name': 'raju', 'address': 'Jabalpur'}\n"
     ]
    }
   ],
   "source": [
    "# to pop last item of dictionary use popitem()\n",
    "b = dic1.popitem()\n",
    "print(b)#removes last element from the dic1\n",
    "print(dic1)"
   ]
  },
  {
   "cell_type": "code",
   "execution_count": 16,
   "id": "d239350c",
   "metadata": {},
   "outputs": [
    {
     "name": "stdout",
     "output_type": "stream",
     "text": [
      "{1: 2, 2: 4, 3: 9}\n"
     ]
    }
   ],
   "source": [
    "sqs = {1:2,2:4,3:9,4:16}\n",
    "\n",
    "del sqs[4]# will delete value key pair of key 4\n",
    "print(sqs)"
   ]
  },
  {
   "cell_type": "code",
   "execution_count": null,
   "id": "2099c548",
   "metadata": {},
   "outputs": [
    {
     "name": "stdout",
     "output_type": "stream",
     "text": [
      "{}\n"
     ]
    }
   ],
   "source": [
    "sqs.clear()#clears all elements from the dictionary\n",
    "print(sqs)# returns empty dictionary"
   ]
  },
  {
   "cell_type": "code",
   "execution_count": null,
   "id": "b4a0c08a",
   "metadata": {},
   "outputs": [
    {
     "name": "stdout",
     "output_type": "stream",
     "text": [
      "{1: 2, 2: 3, 3: 4, 4: 5, 5: 6}\n",
      "{1: 9, 2: 3, 3: 4, 4: 5, 5: 6}\n"
     ]
    }
   ],
   "source": [
    "dic1 = {1:2,2:3,3:4,4:5,5:6}\n",
    "dic2 = dic1#shallow copy , both dic1 and dic2 are names of same dictionary \n",
    "print(dic2)\n",
    "dic2[1]=9# any operation on dic2 will affect dic1 also as the dctionary is only one but have 2 names\n",
    "\n",
    "print(dic1)\n",
    "# this is called shallow copy "
   ]
  },
  {
   "cell_type": "code",
   "execution_count": null,
   "id": "21e36a85",
   "metadata": {},
   "outputs": [
    {
     "name": "stdout",
     "output_type": "stream",
     "text": [
      "{1: 9, 2: 3, 3: 4, 4: 5, 5: 6}\n",
      "{1: 9, 2: 'ab', 3: 4, 4: 5, 5: 6}\n",
      "{1: 9, 2: 3, 3: 4, 4: 5, 5: 6}\n"
     ]
    }
   ],
   "source": [
    "# but if we will use copy() method it will create a new data of that name like\\\n",
    "dic2 = dic1.copy()\n",
    "print(dic2)\n",
    "dic2[2]= \"ab\"\n",
    "print(dic2)#will change in dic2 only \n",
    "print(dic1)# there will be no change dic1 \n",
    "\n",
    "# this is called deep copy"
   ]
  },
  {
   "cell_type": "code",
   "execution_count": null,
   "id": "393b2258",
   "metadata": {},
   "outputs": [
    {
     "name": "stdout",
     "output_type": "stream",
     "text": [
      "{'math': 0, 'english': 0, 'hindi': 0}\n"
     ]
    }
   ],
   "source": [
    "subjects = {}.fromkeys([\"math\",\"english\",\"hindi\"],0)\n",
    "print(subjects)#returns dictionary will keys as above and value as 0 for all"
   ]
  },
  {
   "cell_type": "code",
   "execution_count": 25,
   "id": "0383b2ba",
   "metadata": {},
   "outputs": [
    {
     "name": "stdout",
     "output_type": "stream",
     "text": [
      "dict_items([(2, 4), (3, 9), (4, 16), (5, 25)])\n",
      "dict_keys([2, 3, 4, 5])\n",
      "dict_values([4, 9, 16, 25])\n"
     ]
    }
   ],
   "source": [
    "subjects = {2:4,3:9,4:16,5:25}\n",
    "print(subjects.items())# returns a new view of the dictionary items (key, values)\n",
    "print(subjects.keys())# returns all keys\n",
    "print(subjects.values())#returns all values"
   ]
  },
  {
   "cell_type": "code",
   "execution_count": null,
   "id": "a54811b0",
   "metadata": {},
   "outputs": [
    {
     "name": "stdout",
     "output_type": "stream",
     "text": [
      "2 3 4 5 "
     ]
    }
   ],
   "source": [
    "subjects = {2:4,3:9,4:16,5:25}\n",
    "for k in subjects.keys():\n",
    "    print(k,end = \" \")#prints keys only using iterations\n"
   ]
  },
  {
   "cell_type": "code",
   "execution_count": 28,
   "id": "724f74c2",
   "metadata": {},
   "outputs": [
    {
     "name": "stdout",
     "output_type": "stream",
     "text": [
      "4 9 16 25 "
     ]
    }
   ],
   "source": [
    "subjects = {2:4,3:9,4:16,5:25}\n",
    "for k in subjects.keys():\n",
    "    print(subjects[k],end = \" \")#prints values of keys using iterations"
   ]
  },
  {
   "cell_type": "code",
   "execution_count": 29,
   "id": "f48d71e6",
   "metadata": {},
   "outputs": [
    {
     "name": "stdout",
     "output_type": "stream",
     "text": [
      "4 9 16 25 "
     ]
    }
   ],
   "source": [
    "subjects = {2:4,3:9,4:16,5:25}\n",
    "for k in subjects.values():\n",
    "    print(k,end = \" \")#will only print values"
   ]
  },
  {
   "cell_type": "code",
   "execution_count": 34,
   "id": "b8f9868c",
   "metadata": {},
   "outputs": [
    {
     "name": "stdout",
     "output_type": "stream",
     "text": [
      "{3: 10, 4: 7, 8: 10, 9: 16, 12: 35}\n"
     ]
    }
   ],
   "source": [
    "d = {3:5,4:7,8:10,9:11,12:35}\n",
    "for k in d.keys():\n",
    "    if k%2!=0:\n",
    "        d[k]+=5\n",
    "\n",
    "print(d)        "
   ]
  },
  {
   "cell_type": "code",
   "execution_count": null,
   "id": "2f080724",
   "metadata": {},
   "outputs": [
    {
     "name": "stdout",
     "output_type": "stream",
     "text": [
      "5\n",
      "3\n",
      "{3: [1, 2, 3, 9, 6], 4: [7, 8, 9, 10], 5: [2, 3, 4, 7, 8], 6: [1, 3, 5, 2]}\n"
     ]
    }
   ],
   "source": [
    "s = {3:[1,2,3,9,6],4:[7,8,9,10],5:[2,3,4,7,8],6:[1,3,5,2]}\n",
    "even_count =0\n",
    "odd_count = 0\n",
    "for k in s.keys():\n",
    "    if k%2==0:\n",
    "        for v in s[k]:\n",
    "            if v%2==0: even_count+=1\n",
    "    else: \n",
    "        for v in s[k]:\n",
    "            if v%2 !=0: odd_count+=1\n",
    "print(odd_count)\n",
    "print(even_count)\n",
    "print(s)                    "
   ]
  },
  {
   "cell_type": "code",
   "execution_count": null,
   "id": "004a9b36",
   "metadata": {},
   "outputs": [
    {
     "name": "stdout",
     "output_type": "stream",
     "text": [
      "{3: 3, 5: 4, 7: 2, 2: 1, 8: 1, 9: 1, 10: 1}\n"
     ]
    }
   ],
   "source": [
    "lst = [3,5,7,2,3,5,8,7,9,5,10,5,3]\n",
    "dic1 = {}\n",
    "for i in lst:\n",
    "    cnt = 0\n",
    "    for j in lst:\n",
    "        if j == i:\n",
    "            cnt+=1\n",
    "    dic1[i] = cnt \n",
    "print(dic1)           "
   ]
  },
  {
   "cell_type": "code",
   "execution_count": 45,
   "id": "7c637f68",
   "metadata": {},
   "outputs": [
    {
     "name": "stdout",
     "output_type": "stream",
     "text": [
      "15 25\n",
      "7 89\n"
     ]
    }
   ],
   "source": [
    "dic1 = {3:5,4:7,5:9,15:25,7:89}\n",
    "x = max(dic1.keys())\n",
    "print(x,dic1[x])\n",
    "k1,v1 = 3,5\n",
    "for k,v in dic1.items():\n",
    "    if v>v1:\n",
    "        v1=v\n",
    "        k1 = k\n",
    "print(k,v)        "
   ]
  },
  {
   "cell_type": "code",
   "execution_count": 51,
   "id": "ce413adc",
   "metadata": {},
   "outputs": [
    {
     "name": "stdout",
     "output_type": "stream",
     "text": [
      "{3: 'c', 4: 'd', 5: 'e'}\n"
     ]
    }
   ],
   "source": [
    "#creating a new dictionary with only pairs where value of keys are greater than 2\n",
    "d = {1:\"a\",2:b,3:'c',4:\"d\",5:\"e\"}\n",
    "new_d = {k:v for k,v in d.items() if k >2}\n",
    "print(new_d)"
   ]
  },
  {
   "cell_type": "code",
   "execution_count": 52,
   "id": "2762697c",
   "metadata": {},
   "outputs": [
    {
     "name": "stdout",
     "output_type": "stream",
     "text": [
      "{6: 'cc', 8: 'dd', 10: 'ee'}\n"
     ]
    }
   ],
   "source": [
    "#we can also perform operations on the key value pairs\n",
    "new_d1 = {k*2:v*2 for k,v in d.items() if k>2}\n",
    "print(new_d1)"
   ]
  },
  {
   "cell_type": "code",
   "execution_count": 55,
   "id": "239031d4",
   "metadata": {},
   "outputs": [
    {
     "name": "stdout",
     "output_type": "stream",
     "text": [
      "{6: 'ca', 8: 'da', 10: 'ea'}\n"
     ]
    }
   ],
   "source": [
    "new_d1 = {k*2:v+\"a\" for k,v in d.items() if k>2}\n",
    "print(new_d1)"
   ]
  },
  {
   "cell_type": "code",
   "execution_count": 56,
   "id": "c8857e95",
   "metadata": {},
   "outputs": [
    {
     "name": "stdout",
     "output_type": "stream",
     "text": [
      "{3: 21, 4: 34, 5: 24, 6: 11}\n"
     ]
    }
   ],
   "source": [
    "s = {3:[1,2,3,9,6],4:[7,8,9,10],5:[2,3,4,7,8],6:[1,3,5,2]}\n",
    "for k in s.keys():\n",
    "    sum1 = 0\n",
    "    for v in s[k]:\n",
    "        sum1+=v\n",
    "    s[k] =sum1\n",
    "\n",
    "print(s)        \n"
   ]
  },
  {
   "cell_type": "code",
   "execution_count": 57,
   "id": "4c06bbed",
   "metadata": {},
   "outputs": [
    {
     "name": "stdout",
     "output_type": "stream",
     "text": [
      "{3: 21, 4: 34, 5: 24, 6: 11}\n"
     ]
    }
   ],
   "source": [
    "s = {3:[1,2,3,9,6],4:[7,8,9,10],5:[2,3,4,7,8],6:[1,3,5,2]}\n",
    "print({k:sum(v) for k,v in s.items()})"
   ]
  },
  {
   "cell_type": "code",
   "execution_count": 58,
   "id": "bf93e2ce",
   "metadata": {},
   "outputs": [
    {
     "name": "stdout",
     "output_type": "stream",
     "text": [
      "{3: 21, 4: 34, 5: 24, 6: 11}\n"
     ]
    }
   ],
   "source": [
    "s = {3:[1,2,3,9,6],4:[7,8,9,10],5:[2,3,4,7,8],6:[1,3,5,2]}\n",
    "for k in s.keys():\n",
    "    s[k] = sum(s[k])\n",
    "\n",
    "print(s)   "
   ]
  },
  {
   "cell_type": "code",
   "execution_count": 64,
   "id": "ca422e6b",
   "metadata": {},
   "outputs": [
    {
     "name": "stdout",
     "output_type": "stream",
     "text": [
      "{3: [2, 3, 4, 10, 7], 4: [8, 9, 10, 11], 5: [3, 4, 5, 8, 9], 6: [2, 4, 6, 3]}\n"
     ]
    }
   ],
   "source": [
    "s = {3:[1,2,3,9,6],4:[7,8,9,10],5:[2,3,4,7,8],6:[1,3,5,2]}\n",
    "for k,v in s.items():\n",
    "    s[k] = [i+1 for i in v]\n",
    "print(s) "
   ]
  },
  {
   "cell_type": "code",
   "execution_count": null,
   "id": "4e3e5fdb",
   "metadata": {},
   "outputs": [],
   "source": []
  }
 ],
 "metadata": {
  "kernelspec": {
   "display_name": "Python 3",
   "language": "python",
   "name": "python3"
  },
  "language_info": {
   "codemirror_mode": {
    "name": "ipython",
    "version": 3
   },
   "file_extension": ".py",
   "mimetype": "text/x-python",
   "name": "python",
   "nbconvert_exporter": "python",
   "pygments_lexer": "ipython3",
   "version": "3.13.5"
  }
 },
 "nbformat": 4,
 "nbformat_minor": 5
}
