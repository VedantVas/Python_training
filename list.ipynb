{
 "cells": [
  {
   "cell_type": "code",
   "execution_count": 2,
   "id": "f1198285",
   "metadata": {},
   "outputs": [
    {
     "name": "stdout",
     "output_type": "stream",
     "text": [
      "<class 'list'>\n",
      "[1, 2, 3, 4, 'hey']\n"
     ]
    }
   ],
   "source": [
    "#list creation\n",
    "x = [1,2,3,4,\"hey\"]\n",
    "print(type(x))\n",
    "print(x)"
   ]
  },
  {
   "cell_type": "code",
   "execution_count": null,
   "id": "a2599dd2",
   "metadata": {},
   "outputs": [],
   "source": [
    "#list of different data\n",
    "lst_string =[\"ab\",\"cd\",\"ef\"]\n",
    "print(lst_string)\n",
    "lst_integer = [1,2,3,4,5]\n",
    "print(lst_integer)\n",
    "lst_mixed = [1,\"abcd\",True,3.5]\n",
    "print(lst_mixed)"
   ]
  },
  {
   "cell_type": "code",
   "execution_count": 3,
   "id": "25cd082d",
   "metadata": {},
   "outputs": [
    {
     "name": "stdout",
     "output_type": "stream",
     "text": [
      "['apple', 'Banana', 'grapes', 'mango', 'Guava']\n"
     ]
    }
   ],
   "source": [
    "fruits = [\"apple\",'Banana',\"grapes\",\"mango\",\"Guava\"]\n",
    "print(fruits)"
   ]
  },
  {
   "cell_type": "code",
   "execution_count": 4,
   "id": "6e347f08",
   "metadata": {},
   "outputs": [
    {
     "name": "stdout",
     "output_type": "stream",
     "text": [
      "['apple', 'Banana', 'grapes', 'Watermelon', 'Guava']\n"
     ]
    }
   ],
   "source": [
    "fruits[3] = \"Watermelon\"\n",
    "print(fruits)"
   ]
  },
  {
   "cell_type": "code",
   "execution_count": 6,
   "id": "afd0c98c",
   "metadata": {},
   "outputs": [
    {
     "name": "stdout",
     "output_type": "stream",
     "text": [
      "['apple', 'Banana', 'grapes', 'Watermelon', 'Guava', 'tamato', 'tomato']\n"
     ]
    }
   ],
   "source": [
    "fruits.append(\"tomato\")\n",
    "print(fruits)"
   ]
  },
  {
   "cell_type": "code",
   "execution_count": 13,
   "id": "38992933",
   "metadata": {},
   "outputs": [
    {
     "name": "stdout",
     "output_type": "stream",
     "text": [
      "['apple', 'Banana', 'grapes', 'mango', 'Guava', 'kiwi']\n"
     ]
    }
   ],
   "source": [
    "fruits = [\"apple\",'Banana',\"grapes\",\"mango\",\"Guava\"]\n",
    "fruits.insert(13,\"kiwi\")\n",
    "print(fruits)"
   ]
  },
  {
   "cell_type": "code",
   "execution_count": 16,
   "id": "f10d7e2f",
   "metadata": {},
   "outputs": [
    {
     "name": "stdout",
     "output_type": "stream",
     "text": [
      "[1, 2, 3, [4, 7], 4, 5, 6]\n"
     ]
    }
   ],
   "source": [
    "list1 = [1,2,3,[4,7]]\n",
    "list2 = [4,5,6]\n",
    "#list1.append(list2)\n",
    "list1.extend(list2)\n",
    "print(list1)"
   ]
  },
  {
   "cell_type": "code",
   "execution_count": 17,
   "id": "d1a1738c",
   "metadata": {},
   "outputs": [
    {
     "name": "stdout",
     "output_type": "stream",
     "text": [
      "[1, 2, 3, 40]\n",
      "[1, 2, 40]\n"
     ]
    }
   ],
   "source": [
    "lst = [1,2,3,40]\n",
    "\n",
    "print(lst)\n",
    "del lst[2]\n",
    "print(lst)"
   ]
  },
  {
   "cell_type": "code",
   "execution_count": 18,
   "id": "0ebc7f44",
   "metadata": {},
   "outputs": [
    {
     "name": "stdout",
     "output_type": "stream",
     "text": [
      "[1, 2, 3, 40]\n"
     ]
    },
    {
     "ename": "NameError",
     "evalue": "name 'lst' is not defined",
     "output_type": "error",
     "traceback": [
      "\u001b[31m---------------------------------------------------------------------------\u001b[39m",
      "\u001b[31mNameError\u001b[39m                                 Traceback (most recent call last)",
      "\u001b[36mCell\u001b[39m\u001b[36m \u001b[39m\u001b[32mIn[18]\u001b[39m\u001b[32m, line 5\u001b[39m\n\u001b[32m      3\u001b[39m \u001b[38;5;28mprint\u001b[39m(lst)\n\u001b[32m      4\u001b[39m \u001b[38;5;28;01mdel\u001b[39;00m lst\n\u001b[32m----> \u001b[39m\u001b[32m5\u001b[39m \u001b[38;5;28mprint\u001b[39m(\u001b[43mlst\u001b[49m)\n",
      "\u001b[31mNameError\u001b[39m: name 'lst' is not defined"
     ]
    }
   ],
   "source": [
    "lst = [1,2,3,40]\n",
    "\n",
    "print(lst)\n",
    "del lst\n",
    "print(lst)"
   ]
  },
  {
   "cell_type": "code",
   "execution_count": null,
   "id": "cc0063c7",
   "metadata": {},
   "outputs": [
    {
     "name": "stdout",
     "output_type": "stream",
     "text": [
      "[1, 2, 3, 5, 6]\n",
      "4\n"
     ]
    }
   ],
   "source": [
    "lst = [1,2,3,4,5,6]\n",
    "a = lst.pop(3)#pops that element\n",
    "print(lst)\n",
    "print(a)"
   ]
  },
  {
   "cell_type": "code",
   "execution_count": 20,
   "id": "64b09437",
   "metadata": {},
   "outputs": [
    {
     "name": "stdout",
     "output_type": "stream",
     "text": [
      "[1, 2, 4, 2, 5, 5, 3, 2, 56, 67]\n",
      "[2, 4, 2, 5, 5, 3, 2, 56, 67]\n"
     ]
    }
   ],
   "source": [
    "lst = [1,2,4,2,5,5,3,2,56,67]\n",
    "print(lst)\n",
    "lst.remove(1)\n",
    "print(lst)"
   ]
  },
  {
   "cell_type": "code",
   "execution_count": 22,
   "id": "56e2150d",
   "metadata": {},
   "outputs": [
    {
     "name": "stdout",
     "output_type": "stream",
     "text": [
      "[1, [4, 2], 5, 5, 3, 2, 56, 67]\n",
      "[1, [4, 2], 5, 5, 3, 56, 67]\n"
     ]
    }
   ],
   "source": [
    "lst = [1,[4,2],5,5,3,2,56,67]\n",
    "print(lst)\n",
    "lst.remove(2)\n",
    "print(lst)"
   ]
  },
  {
   "cell_type": "code",
   "execution_count": null,
   "id": "13116674",
   "metadata": {},
   "outputs": [
    {
     "name": "stdout",
     "output_type": "stream",
     "text": [
      "0\n"
     ]
    }
   ],
   "source": [
    "lst = [1,[4,2],5,5,3,2,56,67]\n",
    "print(lst.count(1))\n"
   ]
  },
  {
   "cell_type": "code",
   "execution_count": 29,
   "id": "bf744e84",
   "metadata": {},
   "outputs": [
    {
     "name": "stdout",
     "output_type": "stream",
     "text": [
      "[67, 56, 2, 3, 5, 5, 1]\n"
     ]
    }
   ],
   "source": [
    "lst = [1,5,5,3,2,56,67]\n",
    "lst.reverse()\n",
    "print(lst)"
   ]
  },
  {
   "cell_type": "code",
   "execution_count": 30,
   "id": "bed31991",
   "metadata": {},
   "outputs": [
    {
     "data": {
      "text/plain": [
       "5"
      ]
     },
     "execution_count": 30,
     "metadata": {},
     "output_type": "execute_result"
    }
   ],
   "source": [
    "lst = [1,[4,2],5,5,3,2,56,67]\n",
    "lst.index(2)"
   ]
  },
  {
   "cell_type": "code",
   "execution_count": 34,
   "id": "24ac01c9",
   "metadata": {},
   "outputs": [
    {
     "name": "stdout",
     "output_type": "stream",
     "text": [
      "1,[4, 2],5,5,3,2,56,67,"
     ]
    }
   ],
   "source": [
    "lst = [1,[4,2],5,5,3,2,56,67]\n",
    "for i in lst:\n",
    "    print(i,end = \",\")\n"
   ]
  },
  {
   "cell_type": "code",
   "execution_count": 36,
   "id": "296b34a8",
   "metadata": {},
   "outputs": [
    {
     "name": "stdout",
     "output_type": "stream",
     "text": [
      "1 [4, 2] 5 5 3 2 56 67 "
     ]
    }
   ],
   "source": [
    "lst = [1,[4,2],5,5,3,2,56,67]\n",
    "for i in range(len(lst)):\n",
    "    print(lst[i], end = ' ')"
   ]
  },
  {
   "cell_type": "code",
   "execution_count": 37,
   "id": "7b4712c1",
   "metadata": {},
   "outputs": [
    {
     "name": "stdout",
     "output_type": "stream",
     "text": [
      "6 3\n"
     ]
    }
   ],
   "source": [
    "#WAP to print count of even and odd numbers in the list\n",
    "lst = [1,2,4,3,3,5,5,6,7]\n",
    "ec = 0\n",
    "oc = 0\n",
    "for i in range(len(lst)):\n",
    "    if lst[i]%2==0: ec+=1\n",
    "    else: oc+=1\n",
    "\n",
    "print(oc,ec)    "
   ]
  },
  {
   "cell_type": "code",
   "execution_count": 38,
   "id": "c6a236e9",
   "metadata": {},
   "outputs": [
    {
     "name": "stdout",
     "output_type": "stream",
     "text": [
      "[-2, 7, 9, 0, 0, 2, 2, 11, 4]\n"
     ]
    }
   ],
   "source": [
    "#WAP which will take list as an input from user ,do plus 5 in even numbers and minus 3 in odd numbers\n",
    "#WAP to print count of even and odd numbers in the list\n",
    "lst = [1,2,4,3,3,5,5,6,7]\n",
    "for i in range(len(lst)):\n",
    "    if lst[i]%2==0: lst[i]+=5\n",
    "    else: lst[i]-=3\n",
    "\n",
    "\n",
    "print(lst)    "
   ]
  },
  {
   "cell_type": "code",
   "execution_count": 1,
   "id": "3da192a5",
   "metadata": {},
   "outputs": [
    {
     "name": "stdout",
     "output_type": "stream",
     "text": [
      "[5, 3, 9, 7, 8, 2, 15, 11, 19, 12]\n"
     ]
    }
   ],
   "source": [
    "lst = [3,5,7,9,2,8,11,15,12,19]\n",
    "for i in range(len(lst)):\n",
    "    if i%2==0: lst[i],lst[i+1]=lst[i+1],lst[i]\n",
    "print(lst)    "
   ]
  },
  {
   "cell_type": "code",
   "execution_count": 4,
   "id": "ef52653d",
   "metadata": {},
   "outputs": [
    {
     "name": "stdout",
     "output_type": "stream",
     "text": [
      "[5, 3, 9, 7, 8, 2, 15, 11, 19, 12, 20]\n"
     ]
    }
   ],
   "source": [
    "lst = [3,5,7,9,2,8,11,15,12,19,20]\n",
    "for i in range(0,len(lst)-1,2):\n",
    "    lst[i],lst[i+1]=lst[i+1],lst[i]\n",
    "print(lst)  "
   ]
  },
  {
   "cell_type": "code",
   "execution_count": null,
   "id": "0bb9de73",
   "metadata": {},
   "outputs": [
    {
     "name": "stdout",
     "output_type": "stream",
     "text": [
      "42\n"
     ]
    }
   ],
   "source": [
    "# largest element of the array\n",
    "lst = [3,5,7,9,2,8,11,42,12,19,20]\n",
    "max = lst[0]\n",
    "for i in range(len(lst)):\n",
    "    if lst[i]>max:\n",
    "        max = lst[i]\n",
    "\n",
    "print(max)        "
   ]
  },
  {
   "cell_type": "code",
   "execution_count": null,
   "id": "27c66ba2",
   "metadata": {},
   "outputs": [
    {
     "name": "stdout",
     "output_type": "stream",
     "text": [
      "42\n",
      "30\n"
     ]
    }
   ],
   "source": [
    "#find 2nd largest and largest element from the list\n",
    "lst = [30,5,7,9,2,8,11,42,12,19,20]\n",
    "sec_max = max = lst[0]\n",
    "\n",
    "for i in range(len(lst)):\n",
    "    if lst[i]>max:\n",
    "        max = lst[i]\n",
    "    elif sec_max<lst[i]<max:\n",
    "        sec_max = lst[i]   \n",
    "print(max)\n",
    "print(sec_max)        \n",
    "        "
   ]
  },
  {
   "cell_type": "code",
   "execution_count": 18,
   "id": "96524da3",
   "metadata": {},
   "outputs": [
    {
     "name": "stdout",
     "output_type": "stream",
     "text": [
      "4\n"
     ]
    }
   ],
   "source": [
    "lst ={2,3,5,1,4,6,7}\n",
    "num = int(input(\"Enter the number\"))\n",
    "sum =0\n",
    "for i in range(1,num+1):\n",
    "    if num%i==0:\n",
    "        if i in lst:\n",
    "            sum+=i\n",
    "\n",
    "print(sum)            \n"
   ]
  },
  {
   "cell_type": "code",
   "execution_count": 21,
   "id": "fa602cbc",
   "metadata": {},
   "outputs": [
    {
     "name": "stdout",
     "output_type": "stream",
     "text": [
      "[25, 20, 15, 12, 10]\n"
     ]
    }
   ],
   "source": [
    "lst = [25,3,2,20,8,15,6,12,10]\n",
    "lst.reverse()\n",
    "lst1=[lst[0]]\n",
    "temp = lst[0]\n",
    "for i in lst:\n",
    "    if i>temp:\n",
    "        temp=i\n",
    "        lst1.append(temp)\n",
    "lst1.reverse()\n",
    "print(lst1)             "
   ]
  },
  {
   "cell_type": "code",
   "execution_count": 22,
   "id": "c51d6c44",
   "metadata": {},
   "outputs": [
    {
     "name": "stdout",
     "output_type": "stream",
     "text": [
      "[9, 25, 49, 4, 64, 81]\n"
     ]
    }
   ],
   "source": [
    "\n",
    "lst = [3,5,7,2,8,9]\n",
    "sq_lst =[]\n",
    "for i in lst:\n",
    "    sq_lst.append(i*i)\n",
    "print(sq_lst)    "
   ]
  },
  {
   "cell_type": "code",
   "execution_count": 23,
   "id": "7ca2b426",
   "metadata": {},
   "outputs": [
    {
     "name": "stdout",
     "output_type": "stream",
     "text": [
      "[9, 25, 49, 4, 64, 81]\n"
     ]
    }
   ],
   "source": [
    "\n",
    "lst = [3,5,7,2,8,9]\n",
    "lst1 = [i**2 for i in lst]\n",
    "print(lst1)"
   ]
  },
  {
   "cell_type": "code",
   "execution_count": 25,
   "id": "978225c3",
   "metadata": {},
   "outputs": [
    {
     "name": "stdout",
     "output_type": "stream",
     "text": [
      "[3, 5, 8, 12, 18]\n",
      "[-7, -3, -23]\n"
     ]
    }
   ],
   "source": [
    "lst = [3,5,-7,8,-3,12,18,-23]\n",
    "lst1 = []\n",
    "lst2 = []\n",
    "for i in lst:\n",
    "    if i >0: lst1.append(i)\n",
    "    else:lst2.append(i)\n",
    "print(lst1)\n",
    "print(lst2)    "
   ]
  },
  {
   "cell_type": "code",
   "execution_count": 26,
   "id": "7acb0be9",
   "metadata": {},
   "outputs": [
    {
     "name": "stdout",
     "output_type": "stream",
     "text": [
      "[3, 5, 8, 12, 18]\n",
      "[-7, -3, -23]\n"
     ]
    }
   ],
   "source": [
    "lst = [3,5,-7,8,-3,12,18,-23]\n",
    "lst1 = [i for i in lst if i>0]\n",
    "lst2 = [i for i in lst if i<0]\n",
    "print(lst1)\n",
    "print(lst2) "
   ]
  },
  {
   "cell_type": "code",
   "execution_count": 31,
   "id": "da844e10",
   "metadata": {},
   "outputs": [
    {
     "name": "stdout",
     "output_type": "stream",
     "text": [
      "['odd', 'odd', 'odd', 'even', 'even', 'odd', 'even', 'odd', 'odd']\n"
     ]
    }
   ],
   "source": [
    "lst =[3,5,7,2,8,9,12,13,15]\n",
    "lst1 = [\"even\" if i%2==0 else \"odd\" for i in lst ]\n",
    "#lst1 = [\"even\" for i in lst if i%2==0]\n",
    "print(lst1)"
   ]
  },
  {
   "cell_type": "code",
   "execution_count": 32,
   "id": "8f160429",
   "metadata": {},
   "outputs": [
    {
     "name": "stdout",
     "output_type": "stream",
     "text": [
      "[1, 1, 2, 3, 5, 9, 22, 443]\n",
      "[443, 22, 9, 5, 3, 2, 1, 1]\n"
     ]
    }
   ],
   "source": [
    "num = [1,2,5,3,1,443,22,9]\n",
    "num.sort()\n",
    "print(num)\n",
    "num.sort(reverse = True)\n",
    "print(num)"
   ]
  },
  {
   "cell_type": "code",
   "execution_count": 2,
   "id": "dcf9138c",
   "metadata": {},
   "outputs": [
    {
     "name": "stdout",
     "output_type": "stream",
     "text": [
      "[1, 2, 4, 5, 8, 9, 34, 43, 66]\n",
      "[34, 1, 2, 4, 5, 66, 43, 8, 9]\n",
      "[66, 43, 34, 9, 8, 5, 4, 2, 1]\n"
     ]
    }
   ],
   "source": [
    "nums = [34,1,2,4,5,66,43,8,9]\n",
    "x=sorted(nums)\n",
    "print(x)\n",
    "print(nums)\n",
    "y = sorted(nums, reverse = True)\n",
    "print(y)"
   ]
  },
  {
   "cell_type": "code",
   "execution_count": 5,
   "id": "05be8ad7",
   "metadata": {},
   "outputs": [
    {
     "name": "stdout",
     "output_type": "stream",
     "text": [
      "1\n",
      "172\n",
      "66\n"
     ]
    }
   ],
   "source": [
    "print(min(nums))\n",
    "print(sum(nums))\n",
    "print(max(nums))"
   ]
  },
  {
   "cell_type": "code",
   "execution_count": 9,
   "id": "d535062d",
   "metadata": {},
   "outputs": [
    {
     "name": "stdout",
     "output_type": "stream",
     "text": [
      "[5, 45, 46, 9]\n"
     ]
    }
   ],
   "source": [
    "lst = [[3,5,2,1],[45,1,34,2],[23,13,46,34],[7,2,5,9]]\n",
    "op = []\n",
    "for i in range(len(lst)):\n",
    "    op.append(max(lst[i]))\n",
    "print(op)    "
   ]
  },
  {
   "cell_type": "code",
   "execution_count": 13,
   "id": "ec87075b",
   "metadata": {},
   "outputs": [
    {
     "name": "stdout",
     "output_type": "stream",
     "text": [
      "[5, 45, 46, 9]\n"
     ]
    }
   ],
   "source": [
    "lst = [[3,5,2,1],[45,1,34,2],[23,13,46,34],[7,2,5,9]]\n",
    "op = [max(i) for i in lst]\n",
    "print(op)"
   ]
  },
  {
   "cell_type": "code",
   "execution_count": 19,
   "id": "5f350588",
   "metadata": {},
   "outputs": [
    {
     "name": "stdout",
     "output_type": "stream",
     "text": [
      "[9, 46, 36, 21]\n"
     ]
    }
   ],
   "source": [
    "lst = [[3,5,2,1],[45,1,34,2],[23,13,46,34],[7,2,5,9]]\n",
    "sum_lst =[]\n",
    "\n",
    "for i in lst:\n",
    "    sum_odd = 0\n",
    "    for j in i:\n",
    "        if j%2!=0:\n",
    "           sum_odd +=j\n",
    "    sum_lst.append(sum_odd)\n",
    "print(sum_lst)   \n",
    "\n"
   ]
  },
  {
   "cell_type": "code",
   "execution_count": 20,
   "id": "055765db",
   "metadata": {},
   "outputs": [
    {
     "name": "stdout",
     "output_type": "stream",
     "text": [
      "[[45, 5, 34, 1], [3, 1, 2, 2], [7, 13, 5, 34], [23, 2, 46, 9]]\n"
     ]
    }
   ],
   "source": [
    "lst = [[3,5,2,1],[45,1,34,2],[23,13,46,34],[7,2,5,9]]\n",
    "for i in range(len(lst)):\n",
    "    if i%2==0:\n",
    "        for j in range(len(lst[i])):\n",
    "            if j%2==0:\n",
    "                lst[i][j],lst[i+1][j]=lst[i+1][j], lst[i][j]\n",
    "\n",
    "print(lst)                "
   ]
  },
  {
   "cell_type": "code",
   "execution_count": null,
   "id": "645ec672",
   "metadata": {},
   "outputs": [
    {
     "name": "stdout",
     "output_type": "stream",
     "text": [
      "Jai keolaari..\n"
     ]
    }
   ],
   "source": []
  },
  {
   "cell_type": "code",
   "execution_count": null,
   "id": "55866f28",
   "metadata": {},
   "outputs": [],
   "source": []
  }
 ],
 "metadata": {
  "kernelspec": {
   "display_name": "Python 3",
   "language": "python",
   "name": "python3"
  },
  "language_info": {
   "codemirror_mode": {
    "name": "ipython",
    "version": 3
   },
   "file_extension": ".py",
   "mimetype": "text/x-python",
   "name": "python",
   "nbconvert_exporter": "python",
   "pygments_lexer": "ipython3",
   "version": "3.13.5"
  }
 },
 "nbformat": 4,
 "nbformat_minor": 5
}
